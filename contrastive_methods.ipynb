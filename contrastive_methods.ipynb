{
 "cells": [
  {
   "cell_type": "code",
   "execution_count": 1,
   "id": "b064094a-929f-44b6-8253-0c0f02a53e77",
   "metadata": {
    "tags": []
   },
   "outputs": [],
   "source": [
    "%load_ext autoreload\n",
    "%autoreload 2"
   ]
  },
  {
   "cell_type": "code",
   "execution_count": 180,
   "id": "32016296-c6fa-49ca-a210-9dc6682dfb05",
   "metadata": {
    "tags": []
   },
   "outputs": [],
   "source": [
    "import torch\n",
    "import numpy as np\n",
    "from gpt2_model import GPT2Model\n",
    "from transformers import GPT2LMHeadModel, GPT2Tokenizer"
   ]
  },
  {
   "cell_type": "code",
   "execution_count": 181,
   "id": "533bfaac-d438-43a1-9a1b-d2ee08f6e16a",
   "metadata": {
    "tags": []
   },
   "outputs": [],
   "source": [
    "text = \"Can you stop the dog from\"\n",
    "\n",
    "gpt2model = GPT2Model()"
   ]
  },
  {
   "cell_type": "code",
   "execution_count": 182,
   "id": "990d6e9f-f00d-4851-9435-dacbc745a35f",
   "metadata": {
    "tags": []
   },
   "outputs": [
    {
     "name": "stderr",
     "output_type": "stream",
     "text": [
      "/home/jovyan/EAI/project/gpt2_model.py:81: UserWarning: To copy construct from a tensor, it is recommended to use sourceTensor.clone().detach() or sourceTensor.clone().detach().requires_grad_(True), rather than torch.tensor(sourceTensor).\n",
      "  def get_contrastive_gradient_norm(self, text, correct, foil, explanation=True):\n"
     ]
    },
    {
     "data": {
      "text/plain": [
       "[('Can', 0.14009568691478796),\n",
       " (' you', 0.11587317556279945),\n",
       " (' stop', 0.11667272924008676),\n",
       " (' the', 0.19651549801986348),\n",
       " (' dog', 0.3585780153974227),\n",
       " (' from', 0.07226489486503967)]"
      ]
     },
     "execution_count": 182,
     "metadata": {},
     "output_type": "execute_result"
    }
   ],
   "source": [
    "gpt2model.get_contrastive_gradient_norm(text, \" barking\", \" crying\")"
   ]
  },
  {
   "cell_type": "code",
   "execution_count": 183,
   "id": "21bc4700-2862-4e18-b897-b0c3dd0fcc0d",
   "metadata": {
    "tags": []
   },
   "outputs": [
    {
     "data": {
      "text/plain": [
       "[('Can', 0.22241813),\n",
       " (' you', -0.27678484),\n",
       " (' stop', 0.14209539),\n",
       " (' the', -0.20224291),\n",
       " (' dog', 0.2594155),\n",
       " (' from', -0.023967965)]"
      ]
     },
     "execution_count": 183,
     "metadata": {},
     "output_type": "execute_result"
    }
   ],
   "source": [
    "gpt2model.get_contrastive_input_x_gradient(text, \" barking\", \" crying\")"
   ]
  },
  {
   "cell_type": "code",
   "execution_count": 184,
   "id": "84e8f0b1-e4c5-4086-af29-72cfaf315bdc",
   "metadata": {
    "tags": []
   },
   "outputs": [
    {
     "data": {
      "text/plain": [
       "[('Can', -0.004289989487800558),\n",
       " (' you', 0.04537191026829494),\n",
       " (' stop', 0.37526481771570136),\n",
       " (' the', 0.12397724580374621),\n",
       " (' dog', 0.38029165794483816),\n",
       " (' from', 0.07938435775521988)]"
      ]
     },
     "execution_count": 184,
     "metadata": {},
     "output_type": "execute_result"
    }
   ],
   "source": [
    "gpt2model.get_input_erasure(text, \" barking\", \" crying\")"
   ]
  }
 ],
 "metadata": {
  "kernelspec": {
   "display_name": "Python",
   "language": "python",
   "name": "python3"
  },
  "language_info": {
   "codemirror_mode": {
    "name": "ipython",
    "version": 3
   },
   "file_extension": ".py",
   "mimetype": "text/x-python",
   "name": "python",
   "nbconvert_exporter": "python",
   "pygments_lexer": "ipython3",
   "version": "3.8.10"
  }
 },
 "nbformat": 4,
 "nbformat_minor": 5
}
