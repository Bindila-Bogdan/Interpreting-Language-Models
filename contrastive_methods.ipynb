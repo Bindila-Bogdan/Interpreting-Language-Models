{
 "cells": [
  {
   "cell_type": "code",
   "execution_count": 1,
   "id": "b064094a-929f-44b6-8253-0c0f02a53e77",
   "metadata": {
    "tags": []
   },
   "outputs": [],
   "source": [
    "%load_ext autoreload\n",
    "%autoreload 2"
   ]
  },
  {
   "cell_type": "code",
   "execution_count": 19,
   "id": "32016296-c6fa-49ca-a210-9dc6682dfb05",
   "metadata": {
    "tags": []
   },
   "outputs": [],
   "source": [
    "import torch\n",
    "import numpy as np\n",
    "from gpt2_model import GPT2Model\n",
    "from transformers import GPT2LMHeadModel, GPT2Tokenizer"
   ]
  },
  {
   "cell_type": "code",
   "execution_count": 33,
   "id": "533bfaac-d438-43a1-9a1b-d2ee08f6e16a",
   "metadata": {
    "tags": []
   },
   "outputs": [],
   "source": [
    "text = \"Can you stop the dog from\"\n",
    "\n",
    "gpt2model = GPT2Model()"
   ]
  },
  {
   "cell_type": "code",
   "execution_count": 30,
   "id": "990d6e9f-f00d-4851-9435-dacbc745a35f",
   "metadata": {
    "tags": []
   },
   "outputs": [
    {
     "data": {
      "text/plain": [
       "[('Can', 0.14009577322581834),\n",
       " (' you', 0.11587332114694641),\n",
       " (' stop', 0.11667266860526304),\n",
       " (' the', 0.1965154558478092),\n",
       " (' dog', 0.3585778530056535),\n",
       " (' from', 0.07226492816850953)]"
      ]
     },
     "execution_count": 30,
     "metadata": {},
     "output_type": "execute_result"
    }
   ],
   "source": [
    "gpt2model.get_contrastive_gradient_norm(text, \" barking\", \" crying\")"
   ]
  },
  {
   "cell_type": "code",
   "execution_count": 41,
   "id": "21bc4700-2862-4e18-b897-b0c3dd0fcc0d",
   "metadata": {
    "tags": []
   },
   "outputs": [
    {
     "data": {
      "text/plain": [
       "[('Can', 1.8391802572476994),\n",
       " (' you', -2.288759942599044),\n",
       " (' stop', 1.1750023577185946),\n",
       " (' the', -1.6723641541690895),\n",
       " (' dog', 2.1451181301343913),\n",
       " (' from', -0.19817664833255194)]"
      ]
     },
     "execution_count": 41,
     "metadata": {},
     "output_type": "execute_result"
    }
   ],
   "source": [
    "gpt2model.get_contrastive_input_x_gradient(text, \" barking\", \" crying\")"
   ]
  },
  {
   "cell_type": "code",
   "execution_count": 36,
   "id": "e9af1732-915e-48ce-9bcc-c4c930eb88cc",
   "metadata": {
    "tags": []
   },
   "outputs": [
    {
     "data": {
      "text/plain": [
       "[('Can', -0.004302468686140622),\n",
       " (' you', 0.045367235753967186),\n",
       " (' stop', 0.37527786617183034),\n",
       " (' the', 0.12397566202885438),\n",
       " (' dog', 0.38029881875726057),\n",
       " (' from', 0.07938288597422813)]"
      ]
     },
     "execution_count": 36,
     "metadata": {},
     "output_type": "execute_result"
    }
   ],
   "source": [
    "gpt2model.get_input_erasure(text, \" barking\", \" crying\")"
   ]
  }
 ],
 "metadata": {
  "kernelspec": {
   "display_name": "Python",
   "language": "python",
   "name": "python3"
  },
  "language_info": {
   "codemirror_mode": {
    "name": "ipython",
    "version": 3
   },
   "file_extension": ".py",
   "mimetype": "text/x-python",
   "name": "python",
   "nbconvert_exporter": "python",
   "pygments_lexer": "ipython3",
   "version": "3.8.10"
  }
 },
 "nbformat": 4,
 "nbformat_minor": 5
}
