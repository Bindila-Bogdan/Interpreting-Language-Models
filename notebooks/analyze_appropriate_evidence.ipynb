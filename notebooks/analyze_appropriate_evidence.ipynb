{
 "cells": [
  {
   "cell_type": "code",
   "execution_count": 1,
   "id": "cf36090d-6270-433a-aead-2e411287cdcc",
   "metadata": {
    "tags": []
   },
   "outputs": [],
   "source": [
    "import pandas as pd\n",
    "import seaborn as sns\n",
    "from matplotlib import pyplot as plt\n",
    "sns.set()\n"
   ]
  },
  {
   "cell_type": "markdown",
   "id": "21572898-d1e5-447f-8137-af2a6b631110",
   "metadata": {
    "user_expressions": []
   },
   "source": [
    "### 1. Load measured metrics"
   ]
  },
  {
   "cell_type": "code",
   "execution_count": 2,
   "id": "83923477-3d51-4b49-ae58-000d349de94a",
   "metadata": {
    "tags": []
   },
   "outputs": [
    {
     "data": {
      "text/html": [
       "<div>\n",
       "<style scoped>\n",
       "    .dataframe tbody tr th:only-of-type {\n",
       "        vertical-align: middle;\n",
       "    }\n",
       "\n",
       "    .dataframe tbody tr th {\n",
       "        vertical-align: top;\n",
       "    }\n",
       "\n",
       "    .dataframe thead th {\n",
       "        text-align: right;\n",
       "    }\n",
       "</style>\n",
       "<table border=\"1\" class=\"dataframe\">\n",
       "  <thead>\n",
       "    <tr style=\"text-align: right;\">\n",
       "      <th></th>\n",
       "      <th>metric</th>\n",
       "      <th>value</th>\n",
       "      <th>measurement type</th>\n",
       "    </tr>\n",
       "  </thead>\n",
       "  <tbody>\n",
       "    <tr>\n",
       "      <th>0</th>\n",
       "      <td>mean dot product - gradient norm</td>\n",
       "      <td>0.341928</td>\n",
       "      <td>ours</td>\n",
       "    </tr>\n",
       "    <tr>\n",
       "      <th>1</th>\n",
       "      <td>mean probes needed - gradient norm</td>\n",
       "      <td>2.460285</td>\n",
       "      <td>ours</td>\n",
       "    </tr>\n",
       "    <tr>\n",
       "      <th>2</th>\n",
       "      <td>mean reciprocal rank - gradient norm</td>\n",
       "      <td>0.576541</td>\n",
       "      <td>ours</td>\n",
       "    </tr>\n",
       "    <tr>\n",
       "      <th>3</th>\n",
       "      <td>mean dot product - input x gradient</td>\n",
       "      <td>0.025545</td>\n",
       "      <td>ours</td>\n",
       "    </tr>\n",
       "    <tr>\n",
       "      <th>4</th>\n",
       "      <td>mean probes needed - input x gradient</td>\n",
       "      <td>2.523162</td>\n",
       "      <td>ours</td>\n",
       "    </tr>\n",
       "  </tbody>\n",
       "</table>\n",
       "</div>"
      ],
      "text/plain": [
       "                                  metric     value measurement type\n",
       "0       mean dot product - gradient norm  0.341928             ours\n",
       "1     mean probes needed - gradient norm  2.460285             ours\n",
       "2   mean reciprocal rank - gradient norm  0.576541             ours\n",
       "3    mean dot product - input x gradient  0.025545             ours\n",
       "4  mean probes needed - input x gradient  2.523162             ours"
      ]
     },
     "execution_count": 2,
     "metadata": {},
     "output_type": "execute_result"
    }
   ],
   "source": [
    "measurements_df = pd.DataFrame(pd.read_json('../results/averaged_metrics_all_data.json', typ='dictionary')).reset_index()\n",
    "measurements_df = measurements_df.rename({\"index\": \"metric\", 0: \"value\"}, axis=1)\n",
    "measurements_df[\"measurement type\"] = \"ours\"\n",
    "measurements_df.head()"
   ]
  },
  {
   "cell_type": "markdown",
   "id": "316c8535-d42d-4069-ab70-2e2200987671",
   "metadata": {
    "user_expressions": []
   },
   "source": [
    "### 2. Define original metrics computed by authors"
   ]
  },
  {
   "cell_type": "code",
   "execution_count": 3,
   "id": "12a3b79f-303e-4958-8ea2-f7edb8439841",
   "metadata": {
    "tags": []
   },
   "outputs": [
    {
     "data": {
      "text/html": [
       "<div>\n",
       "<style scoped>\n",
       "    .dataframe tbody tr th:only-of-type {\n",
       "        vertical-align: middle;\n",
       "    }\n",
       "\n",
       "    .dataframe tbody tr th {\n",
       "        vertical-align: top;\n",
       "    }\n",
       "\n",
       "    .dataframe thead th {\n",
       "        text-align: right;\n",
       "    }\n",
       "</style>\n",
       "<table border=\"1\" class=\"dataframe\">\n",
       "  <thead>\n",
       "    <tr style=\"text-align: right;\">\n",
       "      <th></th>\n",
       "      <th>metric</th>\n",
       "      <th>value</th>\n",
       "      <th>measurement type</th>\n",
       "    </tr>\n",
       "  </thead>\n",
       "  <tbody>\n",
       "    <tr>\n",
       "      <th>0</th>\n",
       "      <td>mean dot product - gradient norm</td>\n",
       "      <td>0.50</td>\n",
       "      <td>Yin et al.</td>\n",
       "    </tr>\n",
       "    <tr>\n",
       "      <th>1</th>\n",
       "      <td>mean probes needed - gradient norm</td>\n",
       "      <td>1.50</td>\n",
       "      <td>Yin et al.</td>\n",
       "    </tr>\n",
       "    <tr>\n",
       "      <th>2</th>\n",
       "      <td>mean reciprocal rank - gradient norm</td>\n",
       "      <td>0.60</td>\n",
       "      <td>Yin et al.</td>\n",
       "    </tr>\n",
       "    <tr>\n",
       "      <th>3</th>\n",
       "      <td>mean dot product - input x gradient</td>\n",
       "      <td>0.15</td>\n",
       "      <td>Yin et al.</td>\n",
       "    </tr>\n",
       "    <tr>\n",
       "      <th>4</th>\n",
       "      <td>mean probes needed - input x gradient</td>\n",
       "      <td>1.26</td>\n",
       "      <td>Yin et al.</td>\n",
       "    </tr>\n",
       "  </tbody>\n",
       "</table>\n",
       "</div>"
      ],
      "text/plain": [
       "                                  metric  value measurement type\n",
       "0       mean dot product - gradient norm   0.50       Yin et al.\n",
       "1     mean probes needed - gradient norm   1.50       Yin et al.\n",
       "2   mean reciprocal rank - gradient norm   0.60       Yin et al.\n",
       "3    mean dot product - input x gradient   0.15       Yin et al.\n",
       "4  mean probes needed - input x gradient   1.26       Yin et al."
      ]
     },
     "execution_count": 3,
     "metadata": {},
     "output_type": "execute_result"
    }
   ],
   "source": [
    "original_measurements = {\n",
    "    \"mean dot product - gradient norm\": 0.5,\n",
    "    \"mean probes needed - gradient norm\": 1.5,\n",
    "    \"mean reciprocal rank - gradient norm\": 0.6,\n",
    "    \"mean dot product - input x gradient\": 0.15,\n",
    "    \"mean probes needed - input x gradient\": 1.26,\n",
    "    \"mean reciprocal rank - input x gradient\": 0.64,\n",
    "    \"mean dot product - input erasure\": 0.27,\n",
    "    \"mean probes needed - input erasure\": 1.18,\n",
    "    \"mean reciprocal rank - input erasure\": 0.65,\n",
    "}\n",
    "original_measurements_df = pd.DataFrame(original_measurements, range(9))[:1].T.reset_index()\n",
    "original_measurements_df = original_measurements_df.rename({\"index\": \"metric\", 0: \"value\"}, axis=1)\n",
    "original_measurements_df[\"measurement type\"] = \"Yin et al.\"\n",
    "original_measurements_df.head()"
   ]
  },
  {
   "cell_type": "markdown",
   "id": "68a8f3d3-27e5-4d82-bd42-f23e82afc42e",
   "metadata": {
    "user_expressions": []
   },
   "source": [
    "### 3. Create data frame that contains both data sets"
   ]
  },
  {
   "cell_type": "code",
   "execution_count": 4,
   "id": "364bcaeb-2dbe-445c-8023-bcf893f0c3a6",
   "metadata": {
    "tags": []
   },
   "outputs": [],
   "source": [
    "def preprocess_results(all_measurements_df):\n",
    "    measurement_details = all_measurements_df[\"metric\"].map(lambda x : x.split(\" - \")).values\n",
    "    metric_names = [measurement_details_[0] for measurement_details_ in measurement_details]\n",
    "    contrastive_method_names = [measurement_details_[1] for measurement_details_ in measurement_details]\n",
    "    all_measurements_df = all_measurements_df.drop([\"metric\"], axis=1)\n",
    "    all_measurements_df[\"alignment metric\"] = metric_names\n",
    "    all_measurements_df[\"constrastive explanation\"] = contrastive_method_names\n",
    "    all_measurements_df[\"constrastive explanation\"] = all_measurements_df[\"constrastive explanation\"].map(lambda x: x.capitalize())\n",
    "\n",
    "    return all_measurements_df"
   ]
  },
  {
   "cell_type": "code",
   "execution_count": 5,
   "id": "e92e9c8f-fda3-4cd0-ad64-de4e2d93d680",
   "metadata": {
    "tags": []
   },
   "outputs": [
    {
     "data": {
      "text/html": [
       "<div>\n",
       "<style scoped>\n",
       "    .dataframe tbody tr th:only-of-type {\n",
       "        vertical-align: middle;\n",
       "    }\n",
       "\n",
       "    .dataframe tbody tr th {\n",
       "        vertical-align: top;\n",
       "    }\n",
       "\n",
       "    .dataframe thead th {\n",
       "        text-align: right;\n",
       "    }\n",
       "</style>\n",
       "<table border=\"1\" class=\"dataframe\">\n",
       "  <thead>\n",
       "    <tr style=\"text-align: right;\">\n",
       "      <th></th>\n",
       "      <th>value</th>\n",
       "      <th>measurement type</th>\n",
       "      <th>alignment metric</th>\n",
       "      <th>constrastive explanation</th>\n",
       "    </tr>\n",
       "  </thead>\n",
       "  <tbody>\n",
       "    <tr>\n",
       "      <th>0</th>\n",
       "      <td>0.341928</td>\n",
       "      <td>ours</td>\n",
       "      <td>mean dot product</td>\n",
       "      <td>Gradient norm</td>\n",
       "    </tr>\n",
       "    <tr>\n",
       "      <th>1</th>\n",
       "      <td>2.460285</td>\n",
       "      <td>ours</td>\n",
       "      <td>mean probes needed</td>\n",
       "      <td>Gradient norm</td>\n",
       "    </tr>\n",
       "    <tr>\n",
       "      <th>2</th>\n",
       "      <td>0.576541</td>\n",
       "      <td>ours</td>\n",
       "      <td>mean reciprocal rank</td>\n",
       "      <td>Gradient norm</td>\n",
       "    </tr>\n",
       "    <tr>\n",
       "      <th>3</th>\n",
       "      <td>0.025545</td>\n",
       "      <td>ours</td>\n",
       "      <td>mean dot product</td>\n",
       "      <td>Input x gradient</td>\n",
       "    </tr>\n",
       "    <tr>\n",
       "      <th>4</th>\n",
       "      <td>2.523162</td>\n",
       "      <td>ours</td>\n",
       "      <td>mean probes needed</td>\n",
       "      <td>Input x gradient</td>\n",
       "    </tr>\n",
       "  </tbody>\n",
       "</table>\n",
       "</div>"
      ],
      "text/plain": [
       "      value measurement type      alignment metric constrastive explanation\n",
       "0  0.341928             ours      mean dot product            Gradient norm\n",
       "1  2.460285             ours    mean probes needed            Gradient norm\n",
       "2  0.576541             ours  mean reciprocal rank            Gradient norm\n",
       "3  0.025545             ours      mean dot product         Input x gradient\n",
       "4  2.523162             ours    mean probes needed         Input x gradient"
      ]
     },
     "execution_count": 5,
     "metadata": {},
     "output_type": "execute_result"
    }
   ],
   "source": [
    "all_measurements_df = pd.concat([measurements_df, original_measurements_df])\n",
    "all_measurements_df = preprocess_results(all_measurements_df)\n",
    "all_measurements_df.head()"
   ]
  },
  {
   "cell_type": "markdown",
   "id": "246a0939-ca34-4887-a1ad-cf08c147070f",
   "metadata": {
    "tags": [],
    "user_expressions": []
   },
   "source": [
    "### 4. Plot comparisons"
   ]
  },
  {
   "cell_type": "code",
   "execution_count": 6,
   "id": "2fd3c22e-0a53-48fa-8021-f698eecd4310",
   "metadata": {
    "tags": []
   },
   "outputs": [],
   "source": [
    "def plot_metrics_comparison(all_measurements_df):\n",
    "    fig, ax = plt.subplots(1, 3)\n",
    "    fig.set_size_inches(18, 4)\n",
    "    colors = [\"#00BF63\", \"#E12049\"]\n",
    "\n",
    "    for plot_index, metric_type in enumerate([\"mean dot product\", \"mean probes needed\", \"mean reciprocal rank\"]):\n",
    "        sns.barplot(\n",
    "            data=all_measurements_df[\n",
    "                all_measurements_df[\"alignment metric\"] == metric_type\n",
    "            ],\n",
    "            x=\"constrastive explanation\",\n",
    "            y=\"value\",\n",
    "            hue=\"measurement type\",\n",
    "            ax=ax[plot_index],\n",
    "            palette=colors\n",
    "        )\n",
    "\n",
    "        if plot_index != 2:\n",
    "            ax[plot_index].legend([],[], frameon=False)\n",
    "        else:\n",
    "            ax[plot_index].legend(bbox_to_anchor=(1, 0.153))\n",
    "\n",
    "        if plot_index == 1:\n",
    "            ax[plot_index].set_title(metric_type.title() + \"↓\")\n",
    "        else:\n",
    "            ax[plot_index].set_title(metric_type.title() + \"↑\")\n",
    "\n",
    "        if plot_index != 0:\n",
    "            ax[plot_index].set_ylabel(\"\")\n",
    "\n",
    "        ax[plot_index].set_xlabel(\"\")\n",
    "\n",
    "    fig.text(0.51, -0.02, 'Type of contrastive explanation', ha='center')\n",
    "    plt.show()\n",
    "    fig.savefig(f\"../results/metrics_comparison.png\", bbox_inches='tight') "
   ]
  },
  {
   "cell_type": "code",
   "execution_count": 7,
   "id": "361aaec9-a2b5-4bc2-a8df-338817741725",
   "metadata": {
    "tags": []
   },
   "outputs": [
    {
     "data": {
      "image/png": "[encoded data removed]",
      "text/plain": [
       "<Figure size 1800x400 with 3 Axes>"
      ]
     },
     "metadata": {},
     "output_type": "display_data"
    }
   ],
   "source": [
    "plot_metrics_comparison(all_measurements_df)"
   ]
  },
  {
   "cell_type": "markdown",
   "id": "37c1a8fa-872a-4155-98d8-10567b7de480",
   "metadata": {
    "user_expressions": []
   },
   "source": [
    "### 5. Analyze results at phenomenon level"
   ]
  },
  {
   "cell_type": "code",
   "execution_count": 8,
   "id": "2cfe27be-d3d5-4508-a3a1-48ab0f3c22a2",
   "metadata": {
    "tags": []
   },
   "outputs": [
    {
     "data": {
      "text/html": [
       "<div>\n",
       "<style scoped>\n",
       "    .dataframe tbody tr th:only-of-type {\n",
       "        vertical-align: middle;\n",
       "    }\n",
       "\n",
       "    .dataframe tbody tr th {\n",
       "        vertical-align: top;\n",
       "    }\n",
       "\n",
       "    .dataframe thead th {\n",
       "        text-align: right;\n",
       "    }\n",
       "</style>\n",
       "<table border=\"1\" class=\"dataframe\">\n",
       "  <thead>\n",
       "    <tr style=\"text-align: right;\">\n",
       "      <th></th>\n",
       "      <th></th>\n",
       "      <th></th>\n",
       "      <th>anaphor agreement</th>\n",
       "      <th>argument structure</th>\n",
       "      <th>determiner noun agreement</th>\n",
       "      <th>npi licensing</th>\n",
       "      <th>subject verb agreement</th>\n",
       "    </tr>\n",
       "    <tr>\n",
       "      <th>constrastive explanation</th>\n",
       "      <th></th>\n",
       "      <th>alignment metric</th>\n",
       "      <th></th>\n",
       "      <th></th>\n",
       "      <th></th>\n",
       "      <th></th>\n",
       "      <th></th>\n",
       "    </tr>\n",
       "  </thead>\n",
       "  <tbody>\n",
       "    <tr>\n",
       "      <th rowspan=\"3\" valign=\"top\">Gradient norm</th>\n",
       "      <th>0</th>\n",
       "      <th>mean dot product</th>\n",
       "      <td>0.357</td>\n",
       "      <td>0.238</td>\n",
       "      <td>0.149</td>\n",
       "      <td>0.353</td>\n",
       "      <td>0.555</td>\n",
       "    </tr>\n",
       "    <tr>\n",
       "      <th>1</th>\n",
       "      <th>mean probes needed</th>\n",
       "      <td>2.297</td>\n",
       "      <td>1.907</td>\n",
       "      <td>4.119</td>\n",
       "      <td>1.675</td>\n",
       "      <td>1.639</td>\n",
       "    </tr>\n",
       "    <tr>\n",
       "      <th>2</th>\n",
       "      <th>mean reciprocal rank</th>\n",
       "      <td>0.502</td>\n",
       "      <td>0.702</td>\n",
       "      <td>0.309</td>\n",
       "      <td>0.687</td>\n",
       "      <td>0.773</td>\n",
       "    </tr>\n",
       "    <tr>\n",
       "      <th rowspan=\"3\" valign=\"top\">Input x gradient</th>\n",
       "      <th>3</th>\n",
       "      <th>mean dot product</th>\n",
       "      <td>0.226</td>\n",
       "      <td>-0.419</td>\n",
       "      <td>0.285</td>\n",
       "      <td>-2.273</td>\n",
       "      <td>0.901</td>\n",
       "    </tr>\n",
       "    <tr>\n",
       "      <th>4</th>\n",
       "      <th>mean probes needed</th>\n",
       "      <td>2.126</td>\n",
       "      <td>4.473</td>\n",
       "      <td>2.809</td>\n",
       "      <td>2.216</td>\n",
       "      <td>1.788</td>\n",
       "    </tr>\n",
       "    <tr>\n",
       "      <th>5</th>\n",
       "      <th>mean reciprocal rank</th>\n",
       "      <td>0.603</td>\n",
       "      <td>0.326</td>\n",
       "      <td>0.524</td>\n",
       "      <td>0.567</td>\n",
       "      <td>0.741</td>\n",
       "    </tr>\n",
       "    <tr>\n",
       "      <th rowspan=\"3\" valign=\"top\">Input erasure</th>\n",
       "      <th>6</th>\n",
       "      <th>mean dot product</th>\n",
       "      <td>0.701</td>\n",
       "      <td>0.012</td>\n",
       "      <td>0.176</td>\n",
       "      <td>0.053</td>\n",
       "      <td>0.535</td>\n",
       "    </tr>\n",
       "    <tr>\n",
       "      <th>7</th>\n",
       "      <th>mean probes needed</th>\n",
       "      <td>2.112</td>\n",
       "      <td>3.540</td>\n",
       "      <td>2.426</td>\n",
       "      <td>2.550</td>\n",
       "      <td>1.621</td>\n",
       "    </tr>\n",
       "    <tr>\n",
       "      <th>8</th>\n",
       "      <th>mean reciprocal rank</th>\n",
       "      <td>0.605</td>\n",
       "      <td>0.454</td>\n",
       "      <td>0.655</td>\n",
       "      <td>0.459</td>\n",
       "      <td>0.783</td>\n",
       "    </tr>\n",
       "  </tbody>\n",
       "</table>\n",
       "</div>"
      ],
      "text/plain": [
       "                                                 anaphor agreement  \\\n",
       "constrastive explanation   alignment metric                          \n",
       "Gradient norm            0 mean dot product                  0.357   \n",
       "                         1 mean probes needed                2.297   \n",
       "                         2 mean reciprocal rank              0.502   \n",
       "Input x gradient         3 mean dot product                  0.226   \n",
       "                         4 mean probes needed                2.126   \n",
       "                         5 mean reciprocal rank              0.603   \n",
       "Input erasure            6 mean dot product                  0.701   \n",
       "                         7 mean probes needed                2.112   \n",
       "                         8 mean reciprocal rank              0.605   \n",
       "\n",
       "                                                 argument structure  \\\n",
       "constrastive explanation   alignment metric                           \n",
       "Gradient norm            0 mean dot product                   0.238   \n",
       "                         1 mean probes needed                 1.907   \n",
       "                         2 mean reciprocal rank               0.702   \n",
       "Input x gradient         3 mean dot product                  -0.419   \n",
       "                         4 mean probes needed                 4.473   \n",
       "                         5 mean reciprocal rank               0.326   \n",
       "Input erasure            6 mean dot product                   0.012   \n",
       "                         7 mean probes needed                 3.540   \n",
       "                         8 mean reciprocal rank               0.454   \n",
       "\n",
       "                                                 determiner noun agreement  \\\n",
       "constrastive explanation   alignment metric                                  \n",
       "Gradient norm            0 mean dot product                          0.149   \n",
       "                         1 mean probes needed                        4.119   \n",
       "                         2 mean reciprocal rank                      0.309   \n",
       "Input x gradient         3 mean dot product                          0.285   \n",
       "                         4 mean probes needed                        2.809   \n",
       "                         5 mean reciprocal rank                      0.524   \n",
       "Input erasure            6 mean dot product                          0.176   \n",
       "                         7 mean probes needed                        2.426   \n",
       "                         8 mean reciprocal rank                      0.655   \n",
       "\n",
       "                                                 npi licensing  \\\n",
       "constrastive explanation   alignment metric                      \n",
       "Gradient norm            0 mean dot product              0.353   \n",
       "                         1 mean probes needed            1.675   \n",
       "                         2 mean reciprocal rank          0.687   \n",
       "Input x gradient         3 mean dot product             -2.273   \n",
       "                         4 mean probes needed            2.216   \n",
       "                         5 mean reciprocal rank          0.567   \n",
       "Input erasure            6 mean dot product              0.053   \n",
       "                         7 mean probes needed            2.550   \n",
       "                         8 mean reciprocal rank          0.459   \n",
       "\n",
       "                                                 subject verb agreement  \n",
       "constrastive explanation   alignment metric                              \n",
       "Gradient norm            0 mean dot product                       0.555  \n",
       "                         1 mean probes needed                     1.639  \n",
       "                         2 mean reciprocal rank                   0.773  \n",
       "Input x gradient         3 mean dot product                       0.901  \n",
       "                         4 mean probes needed                     1.788  \n",
       "                         5 mean reciprocal rank                   0.741  \n",
       "Input erasure            6 mean dot product                       0.535  \n",
       "                         7 mean probes needed                     1.621  \n",
       "                         8 mean reciprocal rank                   0.783  "
      ]
     },
     "execution_count": 8,
     "metadata": {},
     "output_type": "execute_result"
    }
   ],
   "source": [
    "phenomena = [\n",
    "    \"anaphor agreement\",\n",
    "    \"argument structure\",\n",
    "    \"determiner noun agreement\",\n",
    "    \"npi licensing\",\n",
    "    \"subject verb agreement\",\n",
    "]\n",
    "\n",
    "values = []\n",
    "\n",
    "for phenomenon in phenomena:\n",
    "    measurements_phenomenon = pd.DataFrame(pd.read_json(f'../results/averaged_metrics_{phenomenon.replace(\" \", \"_\")}.json', typ='dictionary')).reset_index()\n",
    "    measurements_phenomenon = measurements_phenomenon.rename({\"index\": \"metric\", 0: \"value\"}, axis=1)\n",
    "    values.append([round(val, 3) for val in measurements_phenomenon[\"value\"].values])\n",
    "\n",
    "measurements_phenomenon = preprocess_results(measurements_phenomenon)\n",
    "measurements_phenomenon = measurements_phenomenon.set_index([\"constrastive explanation\", \"alignment metric\"], append=True).swaplevel(0,1,axis=0)\n",
    "measurements_phenomena = measurements_phenomenon.drop(\"value\", axis=1)\n",
    "\n",
    "for phenomenon_index in range(len(phenomena)):\n",
    "    measurements_phenomena[phenomena[phenomenon_index]] = values[phenomenon_index]\n",
    "\n",
    "measurements_phenomena.to_excel(\"../results/metrics_per_phenomenon.xlsx\")\n",
    "measurements_phenomena"
   ]
  }
 ],
 "metadata": {
  "kernelspec": {
   "display_name": "Python",
   "language": "python",
   "name": "python3"
  },
  "language_info": {
   "codemirror_mode": {
    "name": "ipython",
    "version": 3
   },
   "file_extension": ".py",
   "mimetype": "text/x-python",
   "name": "python",
   "nbconvert_exporter": "python",
   "pygments_lexer": "ipython3",
   "version": "3.8.10"
  }
 },
 "nbformat": 4,
 "nbformat_minor": 5
}
