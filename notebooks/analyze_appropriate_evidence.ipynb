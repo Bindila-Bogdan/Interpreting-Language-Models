{
 "cells": [
  {
   "cell_type": "code",
   "execution_count": 1,
   "id": "cf36090d-6270-433a-aead-2e411287cdcc",
   "metadata": {
    "tags": []
   },
   "outputs": [],
   "source": [
    "import pandas as pd\n",
    "import seaborn as sns\n",
    "from matplotlib import pyplot as plt\n",
    "sns.set()\n"
   ]
  },
  {
   "cell_type": "markdown",
   "id": "21572898-d1e5-447f-8137-af2a6b631110",
   "metadata": {
    "user_expressions": []
   },
   "source": [
    "### 1. Load measured metrics"
   ]
  },
  {
   "cell_type": "code",
   "execution_count": 2,
   "id": "83923477-3d51-4b49-ae58-000d349de94a",
   "metadata": {
    "tags": []
   },
   "outputs": [
    {
     "data": {
      "text/html": [
       "<div>\n",
       "<style scoped>\n",
       "    .dataframe tbody tr th:only-of-type {\n",
       "        vertical-align: middle;\n",
       "    }\n",
       "\n",
       "    .dataframe tbody tr th {\n",
       "        vertical-align: top;\n",
       "    }\n",
       "\n",
       "    .dataframe thead th {\n",
       "        text-align: right;\n",
       "    }\n",
       "</style>\n",
       "<table border=\"1\" class=\"dataframe\">\n",
       "  <thead>\n",
       "    <tr style=\"text-align: right;\">\n",
       "      <th></th>\n",
       "      <th>metric</th>\n",
       "      <th>value</th>\n",
       "      <th>measurement type</th>\n",
       "    </tr>\n",
       "  </thead>\n",
       "  <tbody>\n",
       "    <tr>\n",
       "      <th>0</th>\n",
       "      <td>mean dot product - gradient norm</td>\n",
       "      <td>0.338258</td>\n",
       "      <td>Yin et al.</td>\n",
       "    </tr>\n",
       "    <tr>\n",
       "      <th>1</th>\n",
       "      <td>mean probes needed - gradient norm</td>\n",
       "      <td>2.501773</td>\n",
       "      <td>Yin et al.</td>\n",
       "    </tr>\n",
       "    <tr>\n",
       "      <th>2</th>\n",
       "      <td>mean reciprocal rank - gradient norm</td>\n",
       "      <td>0.595702</td>\n",
       "      <td>Yin et al.</td>\n",
       "    </tr>\n",
       "    <tr>\n",
       "      <th>3</th>\n",
       "      <td>mean dot product - input x gradient</td>\n",
       "      <td>-0.023138</td>\n",
       "      <td>Yin et al.</td>\n",
       "    </tr>\n",
       "    <tr>\n",
       "      <th>4</th>\n",
       "      <td>mean probes needed - input x gradient</td>\n",
       "      <td>2.624597</td>\n",
       "      <td>Yin et al.</td>\n",
       "    </tr>\n",
       "  </tbody>\n",
       "</table>\n",
       "</div>"
      ],
      "text/plain": [
       "                                  metric     value measurement type\n",
       "0       mean dot product - gradient norm  0.338258       Yin et al.\n",
       "1     mean probes needed - gradient norm  2.501773       Yin et al.\n",
       "2   mean reciprocal rank - gradient norm  0.595702       Yin et al.\n",
       "3    mean dot product - input x gradient -0.023138       Yin et al.\n",
       "4  mean probes needed - input x gradient  2.624597       Yin et al."
      ]
     },
     "execution_count": 2,
     "metadata": {},
     "output_type": "execute_result"
    }
   ],
   "source": [
    "measurements_df = pd.DataFrame(pd.read_json('./results/metrics_contrastive_explanations.json', typ='dictionary')).reset_index()\n",
    "measurements_df = measurements_df.rename({\"index\": \"metric\", 0: \"value\"}, axis=1)\n",
    "measurements_df[\"measurement type\"] = \"Yin et al.\"\n",
    "measurements_df.head()"
   ]
  },
  {
   "cell_type": "markdown",
   "id": "316c8535-d42d-4069-ab70-2e2200987671",
   "metadata": {
    "user_expressions": []
   },
   "source": [
    "### 2. Define original metrics computed by authors"
   ]
  },
  {
   "cell_type": "code",
   "execution_count": 3,
   "id": "12a3b79f-303e-4958-8ea2-f7edb8439841",
   "metadata": {
    "tags": []
   },
   "outputs": [
    {
     "data": {
      "text/html": [
       "<div>\n",
       "<style scoped>\n",
       "    .dataframe tbody tr th:only-of-type {\n",
       "        vertical-align: middle;\n",
       "    }\n",
       "\n",
       "    .dataframe tbody tr th {\n",
       "        vertical-align: top;\n",
       "    }\n",
       "\n",
       "    .dataframe thead th {\n",
       "        text-align: right;\n",
       "    }\n",
       "</style>\n",
       "<table border=\"1\" class=\"dataframe\">\n",
       "  <thead>\n",
       "    <tr style=\"text-align: right;\">\n",
       "      <th></th>\n",
       "      <th>metric</th>\n",
       "      <th>value</th>\n",
       "      <th>measurement type</th>\n",
       "    </tr>\n",
       "  </thead>\n",
       "  <tbody>\n",
       "    <tr>\n",
       "      <th>0</th>\n",
       "      <td>mean dot product - gradient norm</td>\n",
       "      <td>0.50</td>\n",
       "      <td>ours</td>\n",
       "    </tr>\n",
       "    <tr>\n",
       "      <th>1</th>\n",
       "      <td>mean probes needed - gradient norm</td>\n",
       "      <td>1.50</td>\n",
       "      <td>ours</td>\n",
       "    </tr>\n",
       "    <tr>\n",
       "      <th>2</th>\n",
       "      <td>mean reciprocal rank - gradient norm</td>\n",
       "      <td>0.60</td>\n",
       "      <td>ours</td>\n",
       "    </tr>\n",
       "    <tr>\n",
       "      <th>3</th>\n",
       "      <td>mean dot product - input x gradient</td>\n",
       "      <td>0.15</td>\n",
       "      <td>ours</td>\n",
       "    </tr>\n",
       "    <tr>\n",
       "      <th>4</th>\n",
       "      <td>mean probes needed - input x gradient</td>\n",
       "      <td>1.26</td>\n",
       "      <td>ours</td>\n",
       "    </tr>\n",
       "  </tbody>\n",
       "</table>\n",
       "</div>"
      ],
      "text/plain": [
       "                                  metric  value measurement type\n",
       "0       mean dot product - gradient norm   0.50             ours\n",
       "1     mean probes needed - gradient norm   1.50             ours\n",
       "2   mean reciprocal rank - gradient norm   0.60             ours\n",
       "3    mean dot product - input x gradient   0.15             ours\n",
       "4  mean probes needed - input x gradient   1.26             ours"
      ]
     },
     "execution_count": 3,
     "metadata": {},
     "output_type": "execute_result"
    }
   ],
   "source": [
    "original_measurements = {\n",
    "    \"mean dot product - gradient norm\": 0.5,\n",
    "    \"mean probes needed - gradient norm\": 1.5,\n",
    "    \"mean reciprocal rank - gradient norm\": 0.6,\n",
    "    \"mean dot product - input x gradient\": 0.15,\n",
    "    \"mean probes needed - input x gradient\": 1.26,\n",
    "    \"mean reciprocal rank - input x gradient\": 0.64,\n",
    "    \"mean dot product - input erasure\": 0.27,\n",
    "    \"mean probes needed - input erasure\": 1.18,\n",
    "    \"mean reciprocal rank - input erasure\": 0.65,\n",
    "}\n",
    "original_measurements_df = pd.DataFrame(original_measurements, range(9))[:1].T.reset_index()\n",
    "original_measurements_df = original_measurements_df.rename({\"index\": \"metric\", 0: \"value\"}, axis=1)\n",
    "original_measurements_df[\"measurement type\"] = \"ours\"\n",
    "original_measurements_df.head()"
   ]
  },
  {
   "cell_type": "markdown",
   "id": "68a8f3d3-27e5-4d82-bd42-f23e82afc42e",
   "metadata": {
    "user_expressions": []
   },
   "source": [
    "### 3. Create data frame that contains both data sets"
   ]
  },
  {
   "cell_type": "code",
   "execution_count": 4,
   "id": "e92e9c8f-fda3-4cd0-ad64-de4e2d93d680",
   "metadata": {
    "tags": []
   },
   "outputs": [],
   "source": [
    "all_measurements_df = pd.concat([measurements_df, original_measurements_df])\n",
    "measurement_details = all_measurements_df[\"metric\"].map(lambda x : x.split(\" - \")).values\n",
    "metric_names = [measurement_details_[0] for measurement_details_ in measurement_details]\n",
    "contrastive_method_names = [measurement_details_[1] for measurement_details_ in measurement_details]\n",
    "all_measurements_df = all_measurements_df.drop([\"metric\"], axis=1)\n",
    "all_measurements_df[\"alignment metric\"] = metric_names\n",
    "all_measurements_df[\"constrastive explanation\"] = contrastive_method_names\n",
    "all_measurements_df[\"constrastive explanation\"] = all_measurements_df[\"constrastive explanation\"].map(lambda x: x.capitalize())"
   ]
  },
  {
   "cell_type": "code",
   "execution_count": 5,
   "id": "b116b2b1-7c59-415d-a387-6734960966d6",
   "metadata": {
    "tags": []
   },
   "outputs": [
    {
     "data": {
      "text/html": [
       "<div>\n",
       "<style scoped>\n",
       "    .dataframe tbody tr th:only-of-type {\n",
       "        vertical-align: middle;\n",
       "    }\n",
       "\n",
       "    .dataframe tbody tr th {\n",
       "        vertical-align: top;\n",
       "    }\n",
       "\n",
       "    .dataframe thead th {\n",
       "        text-align: right;\n",
       "    }\n",
       "</style>\n",
       "<table border=\"1\" class=\"dataframe\">\n",
       "  <thead>\n",
       "    <tr style=\"text-align: right;\">\n",
       "      <th></th>\n",
       "      <th>value</th>\n",
       "      <th>measurement type</th>\n",
       "      <th>alignment metric</th>\n",
       "      <th>constrastive explanation</th>\n",
       "    </tr>\n",
       "  </thead>\n",
       "  <tbody>\n",
       "    <tr>\n",
       "      <th>0</th>\n",
       "      <td>0.338258</td>\n",
       "      <td>Yin et al.</td>\n",
       "      <td>mean dot product</td>\n",
       "      <td>Gradient norm</td>\n",
       "    </tr>\n",
       "    <tr>\n",
       "      <th>1</th>\n",
       "      <td>2.501773</td>\n",
       "      <td>Yin et al.</td>\n",
       "      <td>mean probes needed</td>\n",
       "      <td>Gradient norm</td>\n",
       "    </tr>\n",
       "    <tr>\n",
       "      <th>2</th>\n",
       "      <td>0.595702</td>\n",
       "      <td>Yin et al.</td>\n",
       "      <td>mean reciprocal rank</td>\n",
       "      <td>Gradient norm</td>\n",
       "    </tr>\n",
       "    <tr>\n",
       "      <th>3</th>\n",
       "      <td>-0.023138</td>\n",
       "      <td>Yin et al.</td>\n",
       "      <td>mean dot product</td>\n",
       "      <td>Input x gradient</td>\n",
       "    </tr>\n",
       "    <tr>\n",
       "      <th>4</th>\n",
       "      <td>2.624597</td>\n",
       "      <td>Yin et al.</td>\n",
       "      <td>mean probes needed</td>\n",
       "      <td>Input x gradient</td>\n",
       "    </tr>\n",
       "    <tr>\n",
       "      <th>5</th>\n",
       "      <td>0.574909</td>\n",
       "      <td>Yin et al.</td>\n",
       "      <td>mean reciprocal rank</td>\n",
       "      <td>Input x gradient</td>\n",
       "    </tr>\n",
       "    <tr>\n",
       "      <th>6</th>\n",
       "      <td>0.252683</td>\n",
       "      <td>Yin et al.</td>\n",
       "      <td>mean dot product</td>\n",
       "      <td>Input erasure</td>\n",
       "    </tr>\n",
       "    <tr>\n",
       "      <th>7</th>\n",
       "      <td>2.343488</td>\n",
       "      <td>Yin et al.</td>\n",
       "      <td>mean probes needed</td>\n",
       "      <td>Input erasure</td>\n",
       "    </tr>\n",
       "    <tr>\n",
       "      <th>8</th>\n",
       "      <td>0.635573</td>\n",
       "      <td>Yin et al.</td>\n",
       "      <td>mean reciprocal rank</td>\n",
       "      <td>Input erasure</td>\n",
       "    </tr>\n",
       "    <tr>\n",
       "      <th>0</th>\n",
       "      <td>0.500000</td>\n",
       "      <td>ours</td>\n",
       "      <td>mean dot product</td>\n",
       "      <td>Gradient norm</td>\n",
       "    </tr>\n",
       "    <tr>\n",
       "      <th>1</th>\n",
       "      <td>1.500000</td>\n",
       "      <td>ours</td>\n",
       "      <td>mean probes needed</td>\n",
       "      <td>Gradient norm</td>\n",
       "    </tr>\n",
       "    <tr>\n",
       "      <th>2</th>\n",
       "      <td>0.600000</td>\n",
       "      <td>ours</td>\n",
       "      <td>mean reciprocal rank</td>\n",
       "      <td>Gradient norm</td>\n",
       "    </tr>\n",
       "    <tr>\n",
       "      <th>3</th>\n",
       "      <td>0.150000</td>\n",
       "      <td>ours</td>\n",
       "      <td>mean dot product</td>\n",
       "      <td>Input x gradient</td>\n",
       "    </tr>\n",
       "    <tr>\n",
       "      <th>4</th>\n",
       "      <td>1.260000</td>\n",
       "      <td>ours</td>\n",
       "      <td>mean probes needed</td>\n",
       "      <td>Input x gradient</td>\n",
       "    </tr>\n",
       "    <tr>\n",
       "      <th>5</th>\n",
       "      <td>0.640000</td>\n",
       "      <td>ours</td>\n",
       "      <td>mean reciprocal rank</td>\n",
       "      <td>Input x gradient</td>\n",
       "    </tr>\n",
       "    <tr>\n",
       "      <th>6</th>\n",
       "      <td>0.270000</td>\n",
       "      <td>ours</td>\n",
       "      <td>mean dot product</td>\n",
       "      <td>Input erasure</td>\n",
       "    </tr>\n",
       "    <tr>\n",
       "      <th>7</th>\n",
       "      <td>1.180000</td>\n",
       "      <td>ours</td>\n",
       "      <td>mean probes needed</td>\n",
       "      <td>Input erasure</td>\n",
       "    </tr>\n",
       "    <tr>\n",
       "      <th>8</th>\n",
       "      <td>0.650000</td>\n",
       "      <td>ours</td>\n",
       "      <td>mean reciprocal rank</td>\n",
       "      <td>Input erasure</td>\n",
       "    </tr>\n",
       "  </tbody>\n",
       "</table>\n",
       "</div>"
      ],
      "text/plain": [
       "      value measurement type      alignment metric constrastive explanation\n",
       "0  0.338258       Yin et al.      mean dot product            Gradient norm\n",
       "1  2.501773       Yin et al.    mean probes needed            Gradient norm\n",
       "2  0.595702       Yin et al.  mean reciprocal rank            Gradient norm\n",
       "3 -0.023138       Yin et al.      mean dot product         Input x gradient\n",
       "4  2.624597       Yin et al.    mean probes needed         Input x gradient\n",
       "5  0.574909       Yin et al.  mean reciprocal rank         Input x gradient\n",
       "6  0.252683       Yin et al.      mean dot product            Input erasure\n",
       "7  2.343488       Yin et al.    mean probes needed            Input erasure\n",
       "8  0.635573       Yin et al.  mean reciprocal rank            Input erasure\n",
       "0  0.500000             ours      mean dot product            Gradient norm\n",
       "1  1.500000             ours    mean probes needed            Gradient norm\n",
       "2  0.600000             ours  mean reciprocal rank            Gradient norm\n",
       "3  0.150000             ours      mean dot product         Input x gradient\n",
       "4  1.260000             ours    mean probes needed         Input x gradient\n",
       "5  0.640000             ours  mean reciprocal rank         Input x gradient\n",
       "6  0.270000             ours      mean dot product            Input erasure\n",
       "7  1.180000             ours    mean probes needed            Input erasure\n",
       "8  0.650000             ours  mean reciprocal rank            Input erasure"
      ]
     },
     "execution_count": 5,
     "metadata": {},
     "output_type": "execute_result"
    }
   ],
   "source": [
    "all_measurements_df"
   ]
  },
  {
   "cell_type": "markdown",
   "id": "246a0939-ca34-4887-a1ad-cf08c147070f",
   "metadata": {
    "tags": [],
    "user_expressions": []
   },
   "source": [
    "### 4. Plot comparisons"
   ]
  },
  {
   "cell_type": "code",
   "execution_count": 6,
   "id": "2fd3c22e-0a53-48fa-8021-f698eecd4310",
   "metadata": {
    "tags": []
   },
   "outputs": [],
   "source": [
    "def plot_metrics_comparison():\n",
    "    fig, ax = plt.subplots(1, 3)\n",
    "    fig.set_size_inches(18, 4)\n",
    "    colors = [\"#00BF63\", \"#E12049\"]\n",
    "\n",
    "    for plot_index, metric_type in enumerate([\"mean dot product\", \"mean probes needed\", \"mean reciprocal rank\"]):\n",
    "        sns.barplot(\n",
    "            data=all_measurements_df[\n",
    "                all_measurements_df[\"alignment metric\"] == metric_type\n",
    "            ],\n",
    "            x=\"constrastive explanation\",\n",
    "            y=\"value\",\n",
    "            hue=\"measurement type\",\n",
    "            ax=ax[plot_index],\n",
    "            palette=colors\n",
    "        )\n",
    "\n",
    "        if plot_index != 2:\n",
    "            ax[plot_index].legend([],[], frameon=False)\n",
    "        else:\n",
    "            ax[plot_index].legend(bbox_to_anchor=(1, 0.153))\n",
    "\n",
    "        ax[plot_index].set_title(metric_type.title())\n",
    "\n",
    "        if plot_index != 0:\n",
    "            ax[plot_index].set_ylabel(\"\")\n",
    "\n",
    "        ax[plot_index].set_xlabel(\"\")\n",
    "\n",
    "    fig.text(0.51, -0.02, 'Type of contrastive explanation', ha='center')\n",
    "    plt.show()\n",
    "    fig.savefig(f\"./results/metrics_comparison.png\", bbox_inches='tight') "
   ]
  },
  {
   "cell_type": "code",
   "execution_count": 7,
   "id": "361aaec9-a2b5-4bc2-a8df-338817741725",
   "metadata": {
    "tags": []
   },
   "outputs": [
    {
     "data": {
      "image/png": "[encoded data removed]",
      "text/plain": [
       "<Figure size 1800x400 with 3 Axes>"
      ]
     },
     "metadata": {},
     "output_type": "display_data"
    }
   ],
   "source": [
    "plot_metrics_comparison()"
   ]
  }
 ],
 "metadata": {
  "kernelspec": {
   "display_name": "Python",
   "language": "python",
   "name": "python3"
  },
  "language_info": {
   "codemirror_mode": {
    "name": "ipython",
    "version": 3
   },
   "file_extension": ".py",
   "mimetype": "text/x-python",
   "name": "python",
   "nbconvert_exporter": "python",
   "pygments_lexer": "ipython3",
   "version": "3.8.10"
  }
 },
 "nbformat": 4,
 "nbformat_minor": 5
}
