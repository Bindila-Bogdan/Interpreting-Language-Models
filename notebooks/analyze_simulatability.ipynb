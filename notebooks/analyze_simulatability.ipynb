{
 "cells": [
  {
   "cell_type": "code",
   "execution_count": 1,
   "id": "a2aa8a82-606e-423b-9de3-9a504e6ab5e2",
   "metadata": {
    "tags": []
   },
   "outputs": [],
   "source": [
    "import numpy as np\n",
    "import pandas as pd\n",
    "RESPONSES_NO = 10"
   ]
  },
  {
   "cell_type": "markdown",
   "id": "6eeddbf6-f264-4d98-9fe5-1d1c1c64bc3a",
   "metadata": {
    "user_expressions": []
   },
   "source": [
    "### 1. Preprocess the input form data"
   ]
  },
  {
   "cell_type": "code",
   "execution_count": 2,
   "id": "ebd50db5-7370-48e4-b666-129c43c2861d",
   "metadata": {
    "tags": []
   },
   "outputs": [
    {
     "name": "stdout",
     "output_type": "stream",
     "text": [
      "Shape of the form data: (32, 3)\n"
     ]
    },
    {
     "data": {
      "text/html": [
       "<div>\n",
       "<style scoped>\n",
       "    .dataframe tbody tr th:only-of-type {\n",
       "        vertical-align: middle;\n",
       "    }\n",
       "\n",
       "    .dataframe tbody tr th {\n",
       "        vertical-align: top;\n",
       "    }\n",
       "\n",
       "    .dataframe thead th {\n",
       "        text-align: right;\n",
       "    }\n",
       "</style>\n",
       "<table border=\"1\" class=\"dataframe\">\n",
       "  <thead>\n",
       "    <tr style=\"text-align: right;\">\n",
       "      <th></th>\n",
       "      <th>phenomenon</th>\n",
       "      <th>correct word</th>\n",
       "      <th>contrastive function</th>\n",
       "    </tr>\n",
       "    <tr>\n",
       "      <th>input sentence</th>\n",
       "      <th></th>\n",
       "      <th></th>\n",
       "      <th></th>\n",
       "    </tr>\n",
       "  </thead>\n",
       "  <tbody>\n",
       "    <tr>\n",
       "      <th>Vases were broken by the</th>\n",
       "      <td>argument structure</td>\n",
       "      <td>boy</td>\n",
       "      <td>gradient norm</td>\n",
       "    </tr>\n",
       "    <tr>\n",
       "      <th>Helen is observed by the</th>\n",
       "      <td>argument structure</td>\n",
       "      <td>doctor</td>\n",
       "      <td>input x gradient</td>\n",
       "    </tr>\n",
       "    <tr>\n",
       "      <th>Curtis is concealed by some</th>\n",
       "      <td>argument structure</td>\n",
       "      <td>teenager</td>\n",
       "      <td>input erasure</td>\n",
       "    </tr>\n",
       "    <tr>\n",
       "      <th>A public park is biked to by the</th>\n",
       "      <td>argument structure</td>\n",
       "      <td>child</td>\n",
       "      <td>input erasure</td>\n",
       "    </tr>\n",
       "    <tr>\n",
       "      <th>Malls are not talked about by some</th>\n",
       "      <td>argument structure</td>\n",
       "      <td>teenager</td>\n",
       "      <td>input erasure</td>\n",
       "    </tr>\n",
       "  </tbody>\n",
       "</table>\n",
       "</div>"
      ],
      "text/plain": [
       "                                            phenomenon correct word  \\\n",
       "input sentence                                                        \n",
       "Vases were broken by the            argument structure          boy   \n",
       "Helen is observed by the            argument structure       doctor   \n",
       "Curtis is concealed by some         argument structure     teenager   \n",
       "A public park is biked to by the    argument structure        child   \n",
       "Malls are not talked about by some  argument structure     teenager   \n",
       "\n",
       "                                   contrastive function  \n",
       "input sentence                                           \n",
       "Vases were broken by the                  gradient norm  \n",
       "Helen is observed by the               input x gradient  \n",
       "Curtis is concealed by some               input erasure  \n",
       "A public park is biked to by the          input erasure  \n",
       "Malls are not talked about by some        input erasure  "
      ]
     },
     "execution_count": 2,
     "metadata": {},
     "output_type": "execute_result"
    }
   ],
   "source": [
    "form_data = pd.read_json(\"../results/form_data.json\").drop([\"explanation\", \"wrong word\"], axis=1)\n",
    "form_data = form_data.set_index(\"input sentence\")\n",
    "print(f\"Shape of the form data: {form_data.shape}\")\n",
    "form_data.head()"
   ]
  },
  {
   "cell_type": "markdown",
   "id": "e4f1d152-46e2-442c-a935-268c2823801a",
   "metadata": {
    "user_expressions": []
   },
   "source": [
    "### 2. Preprocess the answers"
   ]
  },
  {
   "cell_type": "code",
   "execution_count": 3,
   "id": "818659ca-1341-451c-999d-1f84743db087",
   "metadata": {
    "tags": []
   },
   "outputs": [
    {
     "name": "stdout",
     "output_type": "stream",
     "text": [
      "Shape of the form results: (64, 10)\n"
     ]
    },
    {
     "data": {
      "text/html": [
       "<div>\n",
       "<style scoped>\n",
       "    .dataframe tbody tr th:only-of-type {\n",
       "        vertical-align: middle;\n",
       "    }\n",
       "\n",
       "    .dataframe tbody tr th {\n",
       "        vertical-align: top;\n",
       "    }\n",
       "\n",
       "    .dataframe thead th {\n",
       "        text-align: right;\n",
       "    }\n",
       "</style>\n",
       "<table border=\"1\" class=\"dataframe\">\n",
       "  <thead>\n",
       "    <tr style=\"text-align: right;\">\n",
       "      <th></th>\n",
       "      <th>0</th>\n",
       "      <th>1</th>\n",
       "      <th>2</th>\n",
       "      <th>3</th>\n",
       "      <th>4</th>\n",
       "      <th>5</th>\n",
       "      <th>6</th>\n",
       "      <th>7</th>\n",
       "      <th>8</th>\n",
       "      <th>9</th>\n",
       "    </tr>\n",
       "  </thead>\n",
       "  <tbody>\n",
       "    <tr>\n",
       "      <th>Vases were broken by the ...</th>\n",
       "      <td>boy</td>\n",
       "      <td>boy</td>\n",
       "      <td>boy</td>\n",
       "      <td>boy</td>\n",
       "      <td>boy</td>\n",
       "      <td>boy</td>\n",
       "      <td>boy</td>\n",
       "      <td>boy</td>\n",
       "      <td>boy</td>\n",
       "      <td>boy</td>\n",
       "    </tr>\n",
       "    <tr>\n",
       "      <th>Is the provided explanation useful?</th>\n",
       "      <td>Yes</td>\n",
       "      <td>Yes</td>\n",
       "      <td>Yes</td>\n",
       "      <td>Yes</td>\n",
       "      <td>Yes</td>\n",
       "      <td>Yes</td>\n",
       "      <td>Yes</td>\n",
       "      <td>Yes</td>\n",
       "      <td>Yes</td>\n",
       "      <td>Yes</td>\n",
       "    </tr>\n",
       "    <tr>\n",
       "      <th>Helen is observed by the ...</th>\n",
       "      <td>doctor</td>\n",
       "      <td>doctor</td>\n",
       "      <td>doctor</td>\n",
       "      <td>doctor</td>\n",
       "      <td>doctor</td>\n",
       "      <td>doctor</td>\n",
       "      <td>doctor</td>\n",
       "      <td>doctor</td>\n",
       "      <td>doctor</td>\n",
       "      <td>doctor</td>\n",
       "    </tr>\n",
       "    <tr>\n",
       "      <th>Is the provided explanation useful?</th>\n",
       "      <td>Yes</td>\n",
       "      <td>Yes</td>\n",
       "      <td>Yes</td>\n",
       "      <td>Yes</td>\n",
       "      <td>Yes</td>\n",
       "      <td>Yes</td>\n",
       "      <td>Yes</td>\n",
       "      <td>Yes</td>\n",
       "      <td>Yes</td>\n",
       "      <td>Yes</td>\n",
       "    </tr>\n",
       "    <tr>\n",
       "      <th>Curtis is concealed by some ...</th>\n",
       "      <td>paralysis</td>\n",
       "      <td>teenager</td>\n",
       "      <td>teenager</td>\n",
       "      <td>teenager</td>\n",
       "      <td>teenager</td>\n",
       "      <td>teenager</td>\n",
       "      <td>teenager</td>\n",
       "      <td>teenager</td>\n",
       "      <td>teenager</td>\n",
       "      <td>teenager</td>\n",
       "    </tr>\n",
       "  </tbody>\n",
       "</table>\n",
       "</div>"
      ],
      "text/plain": [
       "                                              0         1         2         3  \\\n",
       "Vases were broken by the ...                boy       boy       boy       boy   \n",
       "Is the provided explanation useful?         Yes       Yes       Yes       Yes   \n",
       "Helen is observed by the ...             doctor    doctor    doctor    doctor   \n",
       "Is the provided explanation useful?         Yes       Yes       Yes       Yes   \n",
       "Curtis is concealed by some ...       paralysis  teenager  teenager  teenager   \n",
       "\n",
       "                                             4         5         6         7  \\\n",
       "Vases were broken by the ...               boy       boy       boy       boy   \n",
       "Is the provided explanation useful?        Yes       Yes       Yes       Yes   \n",
       "Helen is observed by the ...            doctor    doctor    doctor    doctor   \n",
       "Is the provided explanation useful?        Yes       Yes       Yes       Yes   \n",
       "Curtis is concealed by some ...       teenager  teenager  teenager  teenager   \n",
       "\n",
       "                                             8         9  \n",
       "Vases were broken by the ...               boy       boy  \n",
       "Is the provided explanation useful?        Yes       Yes  \n",
       "Helen is observed by the ...            doctor    doctor  \n",
       "Is the provided explanation useful?        Yes       Yes  \n",
       "Curtis is concealed by some ...       teenager  teenager  "
      ]
     },
     "execution_count": 3,
     "metadata": {},
     "output_type": "execute_result"
    }
   ],
   "source": [
    "form_results = pd.read_csv(\"../results/form_results.csv\").drop([\"Marcaj de timp\"], axis=1).dropna().T\n",
    "print(f\"Shape of the form results: {form_results.shape}\")\n",
    "form_results.head()"
   ]
  },
  {
   "cell_type": "markdown",
   "id": "b75ecd36-ceb3-40dc-99ab-4c43613398e1",
   "metadata": {
    "user_expressions": []
   },
   "source": [
    "#### 2.1. Get the chosen predicted word"
   ]
  },
  {
   "cell_type": "code",
   "execution_count": 4,
   "id": "4d4d5c5f-086b-456e-baad-b384890823a6",
   "metadata": {
    "tags": []
   },
   "outputs": [
    {
     "name": "stdout",
     "output_type": "stream",
     "text": [
      "Shape of data that contains the chosen predicted word: (32, 10)\n"
     ]
    },
    {
     "data": {
      "text/html": [
       "<div>\n",
       "<style scoped>\n",
       "    .dataframe tbody tr th:only-of-type {\n",
       "        vertical-align: middle;\n",
       "    }\n",
       "\n",
       "    .dataframe tbody tr th {\n",
       "        vertical-align: top;\n",
       "    }\n",
       "\n",
       "    .dataframe thead th {\n",
       "        text-align: right;\n",
       "    }\n",
       "</style>\n",
       "<table border=\"1\" class=\"dataframe\">\n",
       "  <thead>\n",
       "    <tr style=\"text-align: right;\">\n",
       "      <th></th>\n",
       "      <th>pred_0</th>\n",
       "      <th>pred_1</th>\n",
       "      <th>pred_2</th>\n",
       "      <th>pred_3</th>\n",
       "      <th>pred_4</th>\n",
       "      <th>pred_5</th>\n",
       "      <th>pred_6</th>\n",
       "      <th>pred_7</th>\n",
       "      <th>pred_8</th>\n",
       "      <th>pred_9</th>\n",
       "    </tr>\n",
       "  </thead>\n",
       "  <tbody>\n",
       "    <tr>\n",
       "      <th>Vases were broken by the</th>\n",
       "      <td>boy</td>\n",
       "      <td>boy</td>\n",
       "      <td>boy</td>\n",
       "      <td>boy</td>\n",
       "      <td>boy</td>\n",
       "      <td>boy</td>\n",
       "      <td>boy</td>\n",
       "      <td>boy</td>\n",
       "      <td>boy</td>\n",
       "      <td>boy</td>\n",
       "    </tr>\n",
       "    <tr>\n",
       "      <th>Helen is observed by the</th>\n",
       "      <td>doctor</td>\n",
       "      <td>doctor</td>\n",
       "      <td>doctor</td>\n",
       "      <td>doctor</td>\n",
       "      <td>doctor</td>\n",
       "      <td>doctor</td>\n",
       "      <td>doctor</td>\n",
       "      <td>doctor</td>\n",
       "      <td>doctor</td>\n",
       "      <td>doctor</td>\n",
       "    </tr>\n",
       "    <tr>\n",
       "      <th>Curtis is concealed by some</th>\n",
       "      <td>paralysis</td>\n",
       "      <td>teenager</td>\n",
       "      <td>teenager</td>\n",
       "      <td>teenager</td>\n",
       "      <td>teenager</td>\n",
       "      <td>teenager</td>\n",
       "      <td>teenager</td>\n",
       "      <td>teenager</td>\n",
       "      <td>teenager</td>\n",
       "      <td>teenager</td>\n",
       "    </tr>\n",
       "    <tr>\n",
       "      <th>A public park is biked to by the</th>\n",
       "      <td>child</td>\n",
       "      <td>child</td>\n",
       "      <td>child</td>\n",
       "      <td>child</td>\n",
       "      <td>child</td>\n",
       "      <td>child</td>\n",
       "      <td>child</td>\n",
       "      <td>child</td>\n",
       "      <td>child</td>\n",
       "      <td>child</td>\n",
       "    </tr>\n",
       "    <tr>\n",
       "      <th>Malls are not talked about by some</th>\n",
       "      <td>teenager</td>\n",
       "      <td>dog</td>\n",
       "      <td>dog</td>\n",
       "      <td>teenager</td>\n",
       "      <td>teenager</td>\n",
       "      <td>teenager</td>\n",
       "      <td>teenager</td>\n",
       "      <td>teenager</td>\n",
       "      <td>teenager</td>\n",
       "      <td>teenager</td>\n",
       "    </tr>\n",
       "  </tbody>\n",
       "</table>\n",
       "</div>"
      ],
      "text/plain": [
       "                                       pred_0    pred_1    pred_2    pred_3  \\\n",
       "Vases were broken by the                  boy       boy       boy       boy   \n",
       "Helen is observed by the               doctor    doctor    doctor    doctor   \n",
       "Curtis is concealed by some         paralysis  teenager  teenager  teenager   \n",
       "A public park is biked to by the        child     child     child     child   \n",
       "Malls are not talked about by some   teenager       dog       dog  teenager   \n",
       "\n",
       "                                      pred_4    pred_5    pred_6    pred_7  \\\n",
       "Vases were broken by the                 boy       boy       boy       boy   \n",
       "Helen is observed by the              doctor    doctor    doctor    doctor   \n",
       "Curtis is concealed by some         teenager  teenager  teenager  teenager   \n",
       "A public park is biked to by the       child     child     child     child   \n",
       "Malls are not talked about by some  teenager  teenager  teenager  teenager   \n",
       "\n",
       "                                      pred_8    pred_9  \n",
       "Vases were broken by the                 boy       boy  \n",
       "Helen is observed by the              doctor    doctor  \n",
       "Curtis is concealed by some         teenager  teenager  \n",
       "A public park is biked to by the       child     child  \n",
       "Malls are not talked about by some  teenager  teenager  "
      ]
     },
     "execution_count": 4,
     "metadata": {},
     "output_type": "execute_result"
    }
   ],
   "source": [
    "chosen_predicted_word = form_results[~form_results.index.str.contains(\"Is the provided explanation useful?\")]\n",
    "chosen_predicted_word.index = chosen_predicted_word.index.map(lambda x: x[:-4])\n",
    "chosen_predicted_word = chosen_predicted_word.rename({index: \"pred_\" + str(index) for index in range(RESPONSES_NO)}, axis=1)\n",
    "print(f\"Shape of data that contains the chosen predicted word: {chosen_predicted_word.shape}\")\n",
    "chosen_predicted_word.head()"
   ]
  },
  {
   "cell_type": "markdown",
   "id": "424f346b-a1d8-4938-9d33-151690f4fa8c",
   "metadata": {
    "user_expressions": []
   },
   "source": [
    "#### 2.2. Get the chosen usefulness of the explanations"
   ]
  },
  {
   "cell_type": "code",
   "execution_count": 5,
   "id": "31e82c76-9610-43ce-82e3-feb11fd67cce",
   "metadata": {
    "tags": []
   },
   "outputs": [
    {
     "name": "stdout",
     "output_type": "stream",
     "text": [
      "Shape of data that contains the chosen usefulness of the explanation: (32, 10)\n"
     ]
    },
    {
     "data": {
      "text/html": [
       "<div>\n",
       "<style scoped>\n",
       "    .dataframe tbody tr th:only-of-type {\n",
       "        vertical-align: middle;\n",
       "    }\n",
       "\n",
       "    .dataframe tbody tr th {\n",
       "        vertical-align: top;\n",
       "    }\n",
       "\n",
       "    .dataframe thead th {\n",
       "        text-align: right;\n",
       "    }\n",
       "</style>\n",
       "<table border=\"1\" class=\"dataframe\">\n",
       "  <thead>\n",
       "    <tr style=\"text-align: right;\">\n",
       "      <th></th>\n",
       "      <th>usefulness_0</th>\n",
       "      <th>usefulness_1</th>\n",
       "      <th>usefulness_2</th>\n",
       "      <th>usefulness_3</th>\n",
       "      <th>usefulness_4</th>\n",
       "      <th>usefulness_5</th>\n",
       "      <th>usefulness_6</th>\n",
       "      <th>usefulness_7</th>\n",
       "      <th>usefulness_8</th>\n",
       "      <th>usefulness_9</th>\n",
       "    </tr>\n",
       "  </thead>\n",
       "  <tbody>\n",
       "    <tr>\n",
       "      <th>Vases were broken by the</th>\n",
       "      <td>Yes</td>\n",
       "      <td>Yes</td>\n",
       "      <td>Yes</td>\n",
       "      <td>Yes</td>\n",
       "      <td>Yes</td>\n",
       "      <td>Yes</td>\n",
       "      <td>Yes</td>\n",
       "      <td>Yes</td>\n",
       "      <td>Yes</td>\n",
       "      <td>Yes</td>\n",
       "    </tr>\n",
       "    <tr>\n",
       "      <th>Helen is observed by the</th>\n",
       "      <td>Yes</td>\n",
       "      <td>Yes</td>\n",
       "      <td>Yes</td>\n",
       "      <td>Yes</td>\n",
       "      <td>Yes</td>\n",
       "      <td>Yes</td>\n",
       "      <td>Yes</td>\n",
       "      <td>Yes</td>\n",
       "      <td>Yes</td>\n",
       "      <td>Yes</td>\n",
       "    </tr>\n",
       "    <tr>\n",
       "      <th>Curtis is concealed by some</th>\n",
       "      <td>Yes</td>\n",
       "      <td>No</td>\n",
       "      <td>Yes</td>\n",
       "      <td>No</td>\n",
       "      <td>Yes</td>\n",
       "      <td>Yes</td>\n",
       "      <td>Yes</td>\n",
       "      <td>Yes</td>\n",
       "      <td>Yes</td>\n",
       "      <td>Yes</td>\n",
       "    </tr>\n",
       "    <tr>\n",
       "      <th>A public park is biked to by the</th>\n",
       "      <td>Yes</td>\n",
       "      <td>Yes</td>\n",
       "      <td>Yes</td>\n",
       "      <td>No</td>\n",
       "      <td>Yes</td>\n",
       "      <td>Yes</td>\n",
       "      <td>Yes</td>\n",
       "      <td>Yes</td>\n",
       "      <td>Yes</td>\n",
       "      <td>Yes</td>\n",
       "    </tr>\n",
       "    <tr>\n",
       "      <th>Malls are not talked about by some</th>\n",
       "      <td>Yes</td>\n",
       "      <td>No</td>\n",
       "      <td>No</td>\n",
       "      <td>No</td>\n",
       "      <td>Yes</td>\n",
       "      <td>Yes</td>\n",
       "      <td>No</td>\n",
       "      <td>Yes</td>\n",
       "      <td>Yes</td>\n",
       "      <td>Yes</td>\n",
       "    </tr>\n",
       "  </tbody>\n",
       "</table>\n",
       "</div>"
      ],
      "text/plain": [
       "                                   usefulness_0 usefulness_1 usefulness_2  \\\n",
       "Vases were broken by the                    Yes          Yes          Yes   \n",
       "Helen is observed by the                    Yes          Yes          Yes   \n",
       "Curtis is concealed by some                 Yes           No          Yes   \n",
       "A public park is biked to by the            Yes          Yes          Yes   \n",
       "Malls are not talked about by some          Yes           No           No   \n",
       "\n",
       "                                   usefulness_3 usefulness_4 usefulness_5  \\\n",
       "Vases were broken by the                    Yes          Yes          Yes   \n",
       "Helen is observed by the                    Yes          Yes          Yes   \n",
       "Curtis is concealed by some                  No          Yes          Yes   \n",
       "A public park is biked to by the             No          Yes          Yes   \n",
       "Malls are not talked about by some           No          Yes          Yes   \n",
       "\n",
       "                                   usefulness_6 usefulness_7 usefulness_8  \\\n",
       "Vases were broken by the                    Yes          Yes          Yes   \n",
       "Helen is observed by the                    Yes          Yes          Yes   \n",
       "Curtis is concealed by some                 Yes          Yes          Yes   \n",
       "A public park is biked to by the            Yes          Yes          Yes   \n",
       "Malls are not talked about by some           No          Yes          Yes   \n",
       "\n",
       "                                   usefulness_9  \n",
       "Vases were broken by the                    Yes  \n",
       "Helen is observed by the                    Yes  \n",
       "Curtis is concealed by some                 Yes  \n",
       "A public park is biked to by the            Yes  \n",
       "Malls are not talked about by some          Yes  "
      ]
     },
     "execution_count": 5,
     "metadata": {},
     "output_type": "execute_result"
    }
   ],
   "source": [
    "explanation_usefulness = form_results[form_results.index.str.contains(\"Is the provided explanation useful?\")]\n",
    "explanation_usefulness = explanation_usefulness.reset_index().drop([\"index\"], axis=1)\n",
    "explanation_usefulness = explanation_usefulness.rename({index: \"usefulness_\" + str(index) for index in range(RESPONSES_NO)}, axis=1)\n",
    "explanation_usefulness.index = chosen_predicted_word.index\n",
    "print(f\"Shape of data that contains the chosen usefulness of the explanation: {explanation_usefulness.shape}\")\n",
    "explanation_usefulness.head()"
   ]
  },
  {
   "cell_type": "markdown",
   "id": "a2c27135-fd2e-465a-a911-8406f1c4d417",
   "metadata": {
    "tags": [],
    "user_expressions": []
   },
   "source": [
    "### 3. Join datasets"
   ]
  },
  {
   "cell_type": "code",
   "execution_count": 6,
   "id": "0484bbf6-83e9-43b4-8322-47d4901da886",
   "metadata": {},
   "outputs": [
    {
     "name": "stdout",
     "output_type": "stream",
     "text": [
      "Shape of the merged form data: (32, 23)\n"
     ]
    },
    {
     "data": {
      "text/html": [
       "<div>\n",
       "<style scoped>\n",
       "    .dataframe tbody tr th:only-of-type {\n",
       "        vertical-align: middle;\n",
       "    }\n",
       "\n",
       "    .dataframe tbody tr th {\n",
       "        vertical-align: top;\n",
       "    }\n",
       "\n",
       "    .dataframe thead th {\n",
       "        text-align: right;\n",
       "    }\n",
       "</style>\n",
       "<table border=\"1\" class=\"dataframe\">\n",
       "  <thead>\n",
       "    <tr style=\"text-align: right;\">\n",
       "      <th></th>\n",
       "      <th>phenomenon</th>\n",
       "      <th>correct word</th>\n",
       "      <th>contrastive function</th>\n",
       "      <th>pred_0</th>\n",
       "      <th>pred_1</th>\n",
       "      <th>pred_2</th>\n",
       "      <th>pred_3</th>\n",
       "      <th>pred_4</th>\n",
       "      <th>pred_5</th>\n",
       "      <th>pred_6</th>\n",
       "      <th>...</th>\n",
       "      <th>usefulness_0</th>\n",
       "      <th>usefulness_1</th>\n",
       "      <th>usefulness_2</th>\n",
       "      <th>usefulness_3</th>\n",
       "      <th>usefulness_4</th>\n",
       "      <th>usefulness_5</th>\n",
       "      <th>usefulness_6</th>\n",
       "      <th>usefulness_7</th>\n",
       "      <th>usefulness_8</th>\n",
       "      <th>usefulness_9</th>\n",
       "    </tr>\n",
       "  </thead>\n",
       "  <tbody>\n",
       "    <tr>\n",
       "      <th>Vases were broken by the</th>\n",
       "      <td>argument structure</td>\n",
       "      <td>boy</td>\n",
       "      <td>gradient norm</td>\n",
       "      <td>1</td>\n",
       "      <td>1</td>\n",
       "      <td>1</td>\n",
       "      <td>1</td>\n",
       "      <td>1</td>\n",
       "      <td>1</td>\n",
       "      <td>1</td>\n",
       "      <td>...</td>\n",
       "      <td>1</td>\n",
       "      <td>1</td>\n",
       "      <td>1</td>\n",
       "      <td>1</td>\n",
       "      <td>1</td>\n",
       "      <td>1</td>\n",
       "      <td>1</td>\n",
       "      <td>1</td>\n",
       "      <td>1</td>\n",
       "      <td>1</td>\n",
       "    </tr>\n",
       "    <tr>\n",
       "      <th>Helen is observed by the</th>\n",
       "      <td>argument structure</td>\n",
       "      <td>doctor</td>\n",
       "      <td>input x gradient</td>\n",
       "      <td>1</td>\n",
       "      <td>1</td>\n",
       "      <td>1</td>\n",
       "      <td>1</td>\n",
       "      <td>1</td>\n",
       "      <td>1</td>\n",
       "      <td>1</td>\n",
       "      <td>...</td>\n",
       "      <td>1</td>\n",
       "      <td>1</td>\n",
       "      <td>1</td>\n",
       "      <td>1</td>\n",
       "      <td>1</td>\n",
       "      <td>1</td>\n",
       "      <td>1</td>\n",
       "      <td>1</td>\n",
       "      <td>1</td>\n",
       "      <td>1</td>\n",
       "    </tr>\n",
       "    <tr>\n",
       "      <th>Curtis is concealed by some</th>\n",
       "      <td>argument structure</td>\n",
       "      <td>teenager</td>\n",
       "      <td>input erasure</td>\n",
       "      <td>0</td>\n",
       "      <td>1</td>\n",
       "      <td>1</td>\n",
       "      <td>1</td>\n",
       "      <td>1</td>\n",
       "      <td>1</td>\n",
       "      <td>1</td>\n",
       "      <td>...</td>\n",
       "      <td>1</td>\n",
       "      <td>0</td>\n",
       "      <td>1</td>\n",
       "      <td>0</td>\n",
       "      <td>1</td>\n",
       "      <td>1</td>\n",
       "      <td>1</td>\n",
       "      <td>1</td>\n",
       "      <td>1</td>\n",
       "      <td>1</td>\n",
       "    </tr>\n",
       "    <tr>\n",
       "      <th>A public park is biked to by the</th>\n",
       "      <td>argument structure</td>\n",
       "      <td>child</td>\n",
       "      <td>input erasure</td>\n",
       "      <td>1</td>\n",
       "      <td>1</td>\n",
       "      <td>1</td>\n",
       "      <td>1</td>\n",
       "      <td>1</td>\n",
       "      <td>1</td>\n",
       "      <td>1</td>\n",
       "      <td>...</td>\n",
       "      <td>1</td>\n",
       "      <td>1</td>\n",
       "      <td>1</td>\n",
       "      <td>0</td>\n",
       "      <td>1</td>\n",
       "      <td>1</td>\n",
       "      <td>1</td>\n",
       "      <td>1</td>\n",
       "      <td>1</td>\n",
       "      <td>1</td>\n",
       "    </tr>\n",
       "    <tr>\n",
       "      <th>Malls are not talked about by some</th>\n",
       "      <td>argument structure</td>\n",
       "      <td>teenager</td>\n",
       "      <td>input erasure</td>\n",
       "      <td>1</td>\n",
       "      <td>0</td>\n",
       "      <td>0</td>\n",
       "      <td>1</td>\n",
       "      <td>1</td>\n",
       "      <td>1</td>\n",
       "      <td>1</td>\n",
       "      <td>...</td>\n",
       "      <td>1</td>\n",
       "      <td>0</td>\n",
       "      <td>0</td>\n",
       "      <td>0</td>\n",
       "      <td>1</td>\n",
       "      <td>1</td>\n",
       "      <td>0</td>\n",
       "      <td>1</td>\n",
       "      <td>1</td>\n",
       "      <td>1</td>\n",
       "    </tr>\n",
       "  </tbody>\n",
       "</table>\n",
       "<p>5 rows × 23 columns</p>\n",
       "</div>"
      ],
      "text/plain": [
       "                                            phenomenon correct word  \\\n",
       "Vases were broken by the            argument structure          boy   \n",
       "Helen is observed by the            argument structure       doctor   \n",
       "Curtis is concealed by some         argument structure     teenager   \n",
       "A public park is biked to by the    argument structure        child   \n",
       "Malls are not talked about by some  argument structure     teenager   \n",
       "\n",
       "                                   contrastive function pred_0 pred_1 pred_2  \\\n",
       "Vases were broken by the                  gradient norm      1      1      1   \n",
       "Helen is observed by the               input x gradient      1      1      1   \n",
       "Curtis is concealed by some               input erasure      0      1      1   \n",
       "A public park is biked to by the          input erasure      1      1      1   \n",
       "Malls are not talked about by some        input erasure      1      0      0   \n",
       "\n",
       "                                   pred_3 pred_4 pred_5 pred_6  ...  \\\n",
       "Vases were broken by the                1      1      1      1  ...   \n",
       "Helen is observed by the                1      1      1      1  ...   \n",
       "Curtis is concealed by some             1      1      1      1  ...   \n",
       "A public park is biked to by the        1      1      1      1  ...   \n",
       "Malls are not talked about by some      1      1      1      1  ...   \n",
       "\n",
       "                                   usefulness_0 usefulness_1 usefulness_2  \\\n",
       "Vases were broken by the                      1            1            1   \n",
       "Helen is observed by the                      1            1            1   \n",
       "Curtis is concealed by some                   1            0            1   \n",
       "A public park is biked to by the              1            1            1   \n",
       "Malls are not talked about by some            1            0            0   \n",
       "\n",
       "                                   usefulness_3 usefulness_4 usefulness_5  \\\n",
       "Vases were broken by the                      1            1            1   \n",
       "Helen is observed by the                      1            1            1   \n",
       "Curtis is concealed by some                   0            1            1   \n",
       "A public park is biked to by the              0            1            1   \n",
       "Malls are not talked about by some            0            1            1   \n",
       "\n",
       "                                   usefulness_6 usefulness_7 usefulness_8  \\\n",
       "Vases were broken by the                      1            1            1   \n",
       "Helen is observed by the                      1            1            1   \n",
       "Curtis is concealed by some                   1            1            1   \n",
       "A public park is biked to by the              1            1            1   \n",
       "Malls are not talked about by some            0            1            1   \n",
       "\n",
       "                                   usefulness_9  \n",
       "Vases were broken by the                      1  \n",
       "Helen is observed by the                      1  \n",
       "Curtis is concealed by some                   1  \n",
       "A public park is biked to by the              1  \n",
       "Malls are not talked about by some            1  \n",
       "\n",
       "[5 rows x 23 columns]"
      ]
     },
     "execution_count": 6,
     "metadata": {},
     "output_type": "execute_result"
    }
   ],
   "source": [
    "merged_form_data = pd.concat([form_data.join(chosen_predicted_word), explanation_usefulness], axis=1) \n",
    "print(f\"Shape of the merged form data: {merged_form_data.shape}\")\n",
    "assert merged_form_data.isna().sum().sum() == 0\n",
    "\n",
    "pred_columns = [\"pred_\" + str(index) for index in range(RESPONSES_NO)]\n",
    "usefulness_columns = [\"usefulness_\" + str(index) for index in range(RESPONSES_NO)]\n",
    "\n",
    "for pred_column in pred_columns:\n",
    "    merged_form_data.loc[:, pred_column] = (merged_form_data[pred_column] == merged_form_data[\"correct word\"]).values.astype(\"int\")\n",
    "\n",
    "for usefulness_column in usefulness_columns:\n",
    "    merged_form_data.loc[:, usefulness_column] = (merged_form_data[usefulness_column] == \"Yes\").values.astype(\"int\")\n",
    "\n",
    "merged_form_data.head()"
   ]
  },
  {
   "cell_type": "markdown",
   "id": "26d02430-f1a5-4cc7-8703-5ef295d83af5",
   "metadata": {
    "user_expressions": []
   },
   "source": [
    "### 4. Compute statistics"
   ]
  },
  {
   "cell_type": "markdown",
   "id": "c54b84c6-108e-479d-b6ea-379170359d3d",
   "metadata": {
    "user_expressions": []
   },
   "source": [
    "#### 4.1. What is the usefulness per phenomenon and overall?"
   ]
  },
  {
   "cell_type": "code",
   "execution_count": 7,
   "id": "c962a5a3-1ae5-4f81-9206-fe6240748c70",
   "metadata": {
    "tags": []
   },
   "outputs": [
    {
     "data": {
      "text/plain": [
       "phenomenon\n",
       "argument structure           0.8375\n",
       "determiner noun agreement    0.9125\n",
       "npi licensing                 0.675\n",
       "subject verb agreement        0.875\n",
       "dtype: object"
      ]
     },
     "execution_count": 7,
     "metadata": {},
     "output_type": "execute_result"
    }
   ],
   "source": [
    "usefulness_per_phenomenon = merged_form_data.groupby(\"phenomenon\")[usefulness_columns].sum().sum(axis=1) / 80\n",
    "usefulness_per_phenomenon"
   ]
  },
  {
   "cell_type": "code",
   "execution_count": 8,
   "id": "45574407-f169-448d-9ab8-b6dfd52c4efa",
   "metadata": {
    "tags": []
   },
   "outputs": [
    {
     "data": {
      "text/plain": [
       "0.825"
      ]
     },
     "execution_count": 8,
     "metadata": {},
     "output_type": "execute_result"
    }
   ],
   "source": [
    "overall_usefulness = merged_form_data[usefulness_columns].sum().sum() / 320\n",
    "overall_usefulness"
   ]
  },
  {
   "cell_type": "markdown",
   "id": "7b76e85c-38b5-40b6-8325-a7ca6806c2c2",
   "metadata": {
    "user_expressions": []
   },
   "source": [
    "#### 4.2. What is the accuracy per phenomenon and overall?"
   ]
  },
  {
   "cell_type": "code",
   "execution_count": 9,
   "id": "f65a8e72-90f6-4c73-8947-76c8c89ada46",
   "metadata": {
    "tags": []
   },
   "outputs": [
    {
     "data": {
      "text/plain": [
       "phenomenon\n",
       "argument structure           0.8875\n",
       "determiner noun agreement    0.8125\n",
       "npi licensing                  0.95\n",
       "subject verb agreement       0.7625\n",
       "dtype: object"
      ]
     },
     "execution_count": 9,
     "metadata": {},
     "output_type": "execute_result"
    }
   ],
   "source": [
    "accuracy_per_phenomenon = merged_form_data.groupby(\"phenomenon\")[pred_columns].sum().sum(axis=1) / 80\n",
    "accuracy_per_phenomenon"
   ]
  },
  {
   "cell_type": "code",
   "execution_count": 10,
   "id": "353470f2-5429-4cbd-a73b-3b3aed496360",
   "metadata": {
    "tags": []
   },
   "outputs": [
    {
     "data": {
      "text/plain": [
       "0.853125"
      ]
     },
     "execution_count": 10,
     "metadata": {},
     "output_type": "execute_result"
    }
   ],
   "source": [
    "overall_accuracy = merged_form_data[pred_columns].sum().sum() / 320\n",
    "overall_accuracy"
   ]
  },
  {
   "cell_type": "markdown",
   "id": "57a8c1ad-226b-40a7-a63e-a3d999736081",
   "metadata": {
    "user_expressions": []
   },
   "source": [
    "#### 4.3. What is the overall accuracy when the explanation was found useful?"
   ]
  },
  {
   "cell_type": "code",
   "execution_count": 11,
   "id": "ba9f6ba5-c94f-4369-979c-3976c16dc089",
   "metadata": {
    "tags": []
   },
   "outputs": [],
   "source": [
    "flattened_predictions = merged_form_data[pred_columns].to_numpy().flatten()\n",
    "indices_useful = np.where(merged_form_data[usefulness_columns].to_numpy().flatten() == 1)[0]\n",
    "indices_not_useful = np.where(merged_form_data[usefulness_columns].to_numpy().flatten() == 0)[0]"
   ]
  },
  {
   "cell_type": "code",
   "execution_count": 12,
   "id": "92fe0123-81dc-463d-bffe-9e82b7f36c70",
   "metadata": {
    "tags": []
   },
   "outputs": [],
   "source": [
    "predictions_useful_explanation = flattened_predictions[indices_useful]\n",
    "predictions_not_useful_explanation = flattened_predictions[indices_not_useful]"
   ]
  },
  {
   "cell_type": "code",
   "execution_count": 13,
   "id": "2d267b80-05c5-4dbd-a14b-23c37887f3e1",
   "metadata": {
    "tags": []
   },
   "outputs": [
    {
     "data": {
      "text/plain": [
       "0.8977272727272727"
      ]
     },
     "execution_count": 13,
     "metadata": {},
     "output_type": "execute_result"
    }
   ],
   "source": [
    "accuracy_when_useful_explanation =  predictions_useful_explanation.sum() / len(predictions_useful_explanation)\n",
    "accuracy_when_useful_explanation"
   ]
  },
  {
   "cell_type": "code",
   "execution_count": 14,
   "id": "1fec6f89-f975-45e3-b9c7-922b0838270b",
   "metadata": {
    "tags": []
   },
   "outputs": [
    {
     "data": {
      "text/plain": [
       "0.6428571428571429"
      ]
     },
     "execution_count": 14,
     "metadata": {},
     "output_type": "execute_result"
    }
   ],
   "source": [
    "accuracy_when_not_useful_explanation =  predictions_not_useful_explanation.sum() / len(predictions_not_useful_explanation)\n",
    "accuracy_when_not_useful_explanation"
   ]
  }
 ],
 "metadata": {
  "kernelspec": {
   "display_name": "Python",
   "language": "python",
   "name": "python3"
  },
  "language_info": {
   "codemirror_mode": {
    "name": "ipython",
    "version": 3
   },
   "file_extension": ".py",
   "mimetype": "text/x-python",
   "name": "python",
   "nbconvert_exporter": "python",
   "pygments_lexer": "ipython3",
   "version": "3.8.10"
  }
 },
 "nbformat": 4,
 "nbformat_minor": 5
}
