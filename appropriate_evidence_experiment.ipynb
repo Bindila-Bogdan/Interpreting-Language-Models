{
 "cells": [
  {
   "cell_type": "code",
   "execution_count": null,
   "id": "7d4ee3cc-16a1-4bf0-bd18-39b05b6f6da0",
   "metadata": {},
   "outputs": [],
   "source": [
    "12 paradigms - multiple examples in each paradigms\n",
    "5 phenomena\n",
    "random baseline\n",
    "compare contrastive vs non-contrastive explanations\n",
    "\n",
    "results at phenomena level?"
   ]
  }
 ],
 "metadata": {
  "kernelspec": {
   "display_name": "Python",
   "language": "python",
   "name": "python3"
  },
  "language_info": {
   "codemirror_mode": {
    "name": "ipython",
    "version": 3
   },
   "file_extension": ".py",
   "mimetype": "text/x-python",
   "name": "python",
   "nbconvert_exporter": "python",
   "pygments_lexer": "ipython3",
   "version": "3.8.10"
  }
 },
 "nbformat": 4,
 "nbformat_minor": 5
}
