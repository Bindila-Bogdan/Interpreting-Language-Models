{
 "cells": [
  {
   "cell_type": "markdown",
   "id": "363a078c-6808-4bf5-ad66-750c2047b5b4",
   "metadata": {
    "tags": [],
    "user_expressions": []
   },
   "source": [
    "### 0. Import libraries"
   ]
  },
  {
   "cell_type": "code",
   "execution_count": 1,
   "id": "62614185-9ef7-461f-a03f-3722799697a9",
   "metadata": {
    "tags": []
   },
   "outputs": [],
   "source": [
    "# These two commands are needed\n",
    "# !pip install transformers\n",
    "# !pip install accelerate"
   ]
  },
  {
   "cell_type": "code",
   "execution_count": 2,
   "id": "1a29510a-b6f4-492a-b028-0776461b1199",
   "metadata": {
    "tags": []
   },
   "outputs": [
    {
     "name": "stderr",
     "output_type": "stream",
     "text": [
      "2024-06-27 18:40:28.437431: I tensorflow/core/platform/cpu_feature_guard.cc:193] This TensorFlow binary is optimized with oneAPI Deep Neural Network Library (oneDNN) to use the following CPU instructions in performance-critical operations:  AVX2 AVX512F AVX512_VNNI FMA\n",
      "To enable them in other operations, rebuild TensorFlow with the appropriate compiler flags.\n",
      "2024-06-27 18:40:28.574966: I tensorflow/core/util/port.cc:104] oneDNN custom operations are on. You may see slightly different numerical results due to floating-point round-off errors from different computation orders. To turn them off, set the environment variable `TF_ENABLE_ONEDNN_OPTS=0`.\n",
      "2024-06-27 18:40:29.277123: W tensorflow/compiler/xla/stream_executor/platform/default/dso_loader.cc:64] Could not load dynamic library 'libnvinfer.so.7'; dlerror: libnvinfer.so.7: cannot open shared object file: No such file or directory; LD_LIBRARY_PATH: /usr/local/lib:/usr/local/nvidia/lib:/usr/local/nvidia/lib64\n",
      "2024-06-27 18:40:29.277193: W tensorflow/compiler/xla/stream_executor/platform/default/dso_loader.cc:64] Could not load dynamic library 'libnvinfer_plugin.so.7'; dlerror: libnvinfer_plugin.so.7: cannot open shared object file: No such file or directory; LD_LIBRARY_PATH: /usr/local/lib:/usr/local/nvidia/lib:/usr/local/nvidia/lib64\n",
      "2024-06-27 18:40:29.277198: W tensorflow/compiler/tf2tensorrt/utils/py_utils.cc:38] TF-TRT Warning: Cannot dlopen some TensorRT libraries. If you would like to use Nvidia GPU with TensorRT, please make sure the missing libraries mentioned above are installed properly.\n"
     ]
    }
   ],
   "source": [
    "# import libraries\n",
    "import torch\n",
    "import numpy as np\n",
    "import transformers\n",
    "import pandas as pd\n",
    "\n",
    "# import local scripts\n",
    "from data_loader import DatasetLoader\n",
    "\n",
    "# produce repeatable results\n",
    "np.random.seed(seed=42)\n",
    "transformers.set_seed(42)\n",
    "\n",
    "# enable CUDNN deterministic mode\n",
    "torch.backends.cudnn.deterministic = True\n",
    "torch.backends.cudnn.benchmark = False"
   ]
  },
  {
   "cell_type": "markdown",
   "id": "7c4173ef-0513-4bb0-a170-2129d03d67e2",
   "metadata": {
    "tags": [],
    "user_expressions": []
   },
   "source": [
    "### 1. Load the data"
   ]
  },
  {
   "cell_type": "markdown",
   "id": "a3b8d313-2265-4d12-8d46-b8f961cbc7e7",
   "metadata": {
    "user_expressions": []
   },
   "source": [
    "Below are the names of the datasets used by the authors to check if contrastive explanations identify linguistically appropriate evidence."
   ]
  },
  {
   "cell_type": "code",
   "execution_count": 3,
   "id": "8bb67dff-7496-415c-b1b2-978768144041",
   "metadata": {
    "tags": []
   },
   "outputs": [],
   "source": [
    "anaphor_agreement_datasets = [\"anaphor_gender_agreement\", \"anaphor_number_agreement\"]\n",
    "\n",
    "# not sure about the one below\n",
    "argument_structure_datasets = [\"drop_argument\"]\n",
    "\n",
    "determiner_noun_agreement_datasets = [\n",
    "    \"determiner_noun_agreement_1\",\n",
    "    \"determiner_noun_agreement_2\",\n",
    "    \"determiner_noun_agreement_irregular_1\",\n",
    "    \"determiner_noun_agreement_irregular_2\",\n",
    "    \"determiner_noun_agreement_with_adj_2\",\n",
    "    \"determiner_noun_agreement_with_adj_irregular_1\",\n",
    "    \"determiner_noun_agreement_with_adj_irregular_2\",\n",
    "    \"determiner_noun_agreement_with_adjective_1\",\n",
    "]\n",
    "\n",
    "npi_licesing = [\n",
    "    \"matrix_question_npi_licensor_present\",\n",
    "    \"only_npi_licensor_present\",\n",
    "    \"sentential_negation_npi_licensor_present\",\n",
    "]\n",
    "\n",
    "subject_verb_agreement = [\n",
    "    \"irregular_plural_subject_verb_agreement_1\",\n",
    "    \"irregular_plural_subject_verb_agreement_2\",\n",
    "    \"regular_plural_subject_verb_agreement_1\",\n",
    "    \"regular_plural_subject_verb_agreement_2\",\n",
    "]"
   ]
  },
  {
   "cell_type": "code",
   "execution_count": 4,
   "id": "89280074-a98f-410b-9bb6-db1882ec86da",
   "metadata": {
    "tags": []
   },
   "outputs": [],
   "source": [
    "data_loader = DatasetLoader()\n",
    "data = data_loader.load_data(anaphor_agreement_datasets[0])"
   ]
  },
  {
   "cell_type": "code",
   "execution_count": 5,
   "id": "7bb6508c-0bc5-4b88-835c-a09927e91f69",
   "metadata": {
    "tags": []
   },
   "outputs": [
    {
     "data": {
      "text/html": [
       "<div>\n",
       "<style scoped>\n",
       "    .dataframe tbody tr th:only-of-type {\n",
       "        vertical-align: middle;\n",
       "    }\n",
       "\n",
       "    .dataframe tbody tr th {\n",
       "        vertical-align: top;\n",
       "    }\n",
       "\n",
       "    .dataframe thead th {\n",
       "        text-align: right;\n",
       "    }\n",
       "</style>\n",
       "<table border=\"1\" class=\"dataframe\">\n",
       "  <thead>\n",
       "    <tr style=\"text-align: right;\">\n",
       "      <th></th>\n",
       "      <th>sentence_good</th>\n",
       "      <th>sentence_bad</th>\n",
       "      <th>field</th>\n",
       "      <th>linguistics_term</th>\n",
       "      <th>UID</th>\n",
       "      <th>simple_LM_method</th>\n",
       "      <th>one_prefix_method</th>\n",
       "      <th>two_prefix_method</th>\n",
       "      <th>lexically_identical</th>\n",
       "      <th>pair_id</th>\n",
       "    </tr>\n",
       "  </thead>\n",
       "  <tbody>\n",
       "    <tr>\n",
       "      <th>0</th>\n",
       "      <td>Katherine can't help herself.</td>\n",
       "      <td>Katherine can't help himself.</td>\n",
       "      <td>morphology</td>\n",
       "      <td>anaphor_agreement</td>\n",
       "      <td>anaphor_gender_agreement</td>\n",
       "      <td>True</td>\n",
       "      <td>True</td>\n",
       "      <td>False</td>\n",
       "      <td>False</td>\n",
       "      <td>0</td>\n",
       "    </tr>\n",
       "    <tr>\n",
       "      <th>1</th>\n",
       "      <td>Karla could listen to herself.</td>\n",
       "      <td>Karla could listen to himself.</td>\n",
       "      <td>morphology</td>\n",
       "      <td>anaphor_agreement</td>\n",
       "      <td>anaphor_gender_agreement</td>\n",
       "      <td>True</td>\n",
       "      <td>True</td>\n",
       "      <td>False</td>\n",
       "      <td>False</td>\n",
       "      <td>1</td>\n",
       "    </tr>\n",
       "    <tr>\n",
       "      <th>2</th>\n",
       "      <td>Marie won't think about herself.</td>\n",
       "      <td>Marie won't think about itself.</td>\n",
       "      <td>morphology</td>\n",
       "      <td>anaphor_agreement</td>\n",
       "      <td>anaphor_gender_agreement</td>\n",
       "      <td>True</td>\n",
       "      <td>True</td>\n",
       "      <td>False</td>\n",
       "      <td>False</td>\n",
       "      <td>2</td>\n",
       "    </tr>\n",
       "    <tr>\n",
       "      <th>3</th>\n",
       "      <td>Mark hasn't discussed himself.</td>\n",
       "      <td>Mark hasn't discussed itself.</td>\n",
       "      <td>morphology</td>\n",
       "      <td>anaphor_agreement</td>\n",
       "      <td>anaphor_gender_agreement</td>\n",
       "      <td>True</td>\n",
       "      <td>True</td>\n",
       "      <td>False</td>\n",
       "      <td>False</td>\n",
       "      <td>3</td>\n",
       "    </tr>\n",
       "    <tr>\n",
       "      <th>4</th>\n",
       "      <td>Stephen impressed himself.</td>\n",
       "      <td>Stephen impressed itself.</td>\n",
       "      <td>morphology</td>\n",
       "      <td>anaphor_agreement</td>\n",
       "      <td>anaphor_gender_agreement</td>\n",
       "      <td>True</td>\n",
       "      <td>True</td>\n",
       "      <td>False</td>\n",
       "      <td>False</td>\n",
       "      <td>4</td>\n",
       "    </tr>\n",
       "    <tr>\n",
       "      <th>...</th>\n",
       "      <td>...</td>\n",
       "      <td>...</td>\n",
       "      <td>...</td>\n",
       "      <td>...</td>\n",
       "      <td>...</td>\n",
       "      <td>...</td>\n",
       "      <td>...</td>\n",
       "      <td>...</td>\n",
       "      <td>...</td>\n",
       "      <td>...</td>\n",
       "    </tr>\n",
       "    <tr>\n",
       "      <th>995</th>\n",
       "      <td>Carlos complained about himself.</td>\n",
       "      <td>Carlos complained about itself.</td>\n",
       "      <td>morphology</td>\n",
       "      <td>anaphor_agreement</td>\n",
       "      <td>anaphor_gender_agreement</td>\n",
       "      <td>True</td>\n",
       "      <td>True</td>\n",
       "      <td>False</td>\n",
       "      <td>False</td>\n",
       "      <td>995</td>\n",
       "    </tr>\n",
       "    <tr>\n",
       "      <th>996</th>\n",
       "      <td>Benjamin is firing himself.</td>\n",
       "      <td>Benjamin is firing itself.</td>\n",
       "      <td>morphology</td>\n",
       "      <td>anaphor_agreement</td>\n",
       "      <td>anaphor_gender_agreement</td>\n",
       "      <td>True</td>\n",
       "      <td>True</td>\n",
       "      <td>False</td>\n",
       "      <td>False</td>\n",
       "      <td>996</td>\n",
       "    </tr>\n",
       "    <tr>\n",
       "      <th>997</th>\n",
       "      <td>Chad kisses himself.</td>\n",
       "      <td>Chad kisses herself.</td>\n",
       "      <td>morphology</td>\n",
       "      <td>anaphor_agreement</td>\n",
       "      <td>anaphor_gender_agreement</td>\n",
       "      <td>True</td>\n",
       "      <td>True</td>\n",
       "      <td>False</td>\n",
       "      <td>False</td>\n",
       "      <td>997</td>\n",
       "    </tr>\n",
       "    <tr>\n",
       "      <th>998</th>\n",
       "      <td>Paula was arguing about herself.</td>\n",
       "      <td>Paula was arguing about himself.</td>\n",
       "      <td>morphology</td>\n",
       "      <td>anaphor_agreement</td>\n",
       "      <td>anaphor_gender_agreement</td>\n",
       "      <td>True</td>\n",
       "      <td>True</td>\n",
       "      <td>False</td>\n",
       "      <td>False</td>\n",
       "      <td>998</td>\n",
       "    </tr>\n",
       "    <tr>\n",
       "      <th>999</th>\n",
       "      <td>Colleen should question herself.</td>\n",
       "      <td>Colleen should question itself.</td>\n",
       "      <td>morphology</td>\n",
       "      <td>anaphor_agreement</td>\n",
       "      <td>anaphor_gender_agreement</td>\n",
       "      <td>True</td>\n",
       "      <td>True</td>\n",
       "      <td>False</td>\n",
       "      <td>False</td>\n",
       "      <td>999</td>\n",
       "    </tr>\n",
       "  </tbody>\n",
       "</table>\n",
       "<p>1000 rows × 10 columns</p>\n",
       "</div>"
      ],
      "text/plain": [
       "                        sentence_good                      sentence_bad  \\\n",
       "0       Katherine can't help herself.     Katherine can't help himself.   \n",
       "1      Karla could listen to herself.    Karla could listen to himself.   \n",
       "2    Marie won't think about herself.   Marie won't think about itself.   \n",
       "3      Mark hasn't discussed himself.     Mark hasn't discussed itself.   \n",
       "4          Stephen impressed himself.         Stephen impressed itself.   \n",
       "..                                ...                               ...   \n",
       "995  Carlos complained about himself.   Carlos complained about itself.   \n",
       "996       Benjamin is firing himself.        Benjamin is firing itself.   \n",
       "997              Chad kisses himself.              Chad kisses herself.   \n",
       "998  Paula was arguing about herself.  Paula was arguing about himself.   \n",
       "999  Colleen should question herself.   Colleen should question itself.   \n",
       "\n",
       "          field   linguistics_term                       UID  \\\n",
       "0    morphology  anaphor_agreement  anaphor_gender_agreement   \n",
       "1    morphology  anaphor_agreement  anaphor_gender_agreement   \n",
       "2    morphology  anaphor_agreement  anaphor_gender_agreement   \n",
       "3    morphology  anaphor_agreement  anaphor_gender_agreement   \n",
       "4    morphology  anaphor_agreement  anaphor_gender_agreement   \n",
       "..          ...                ...                       ...   \n",
       "995  morphology  anaphor_agreement  anaphor_gender_agreement   \n",
       "996  morphology  anaphor_agreement  anaphor_gender_agreement   \n",
       "997  morphology  anaphor_agreement  anaphor_gender_agreement   \n",
       "998  morphology  anaphor_agreement  anaphor_gender_agreement   \n",
       "999  morphology  anaphor_agreement  anaphor_gender_agreement   \n",
       "\n",
       "     simple_LM_method  one_prefix_method  two_prefix_method  \\\n",
       "0                True               True              False   \n",
       "1                True               True              False   \n",
       "2                True               True              False   \n",
       "3                True               True              False   \n",
       "4                True               True              False   \n",
       "..                ...                ...                ...   \n",
       "995              True               True              False   \n",
       "996              True               True              False   \n",
       "997              True               True              False   \n",
       "998              True               True              False   \n",
       "999              True               True              False   \n",
       "\n",
       "     lexically_identical  pair_id  \n",
       "0                  False        0  \n",
       "1                  False        1  \n",
       "2                  False        2  \n",
       "3                  False        3  \n",
       "4                  False        4  \n",
       "..                   ...      ...  \n",
       "995                False      995  \n",
       "996                False      996  \n",
       "997                False      997  \n",
       "998                False      998  \n",
       "999                False      999  \n",
       "\n",
       "[1000 rows x 10 columns]"
      ]
     },
     "execution_count": 5,
     "metadata": {},
     "output_type": "execute_result"
    }
   ],
   "source": [
    "pd.DataFrame(data[\"train\"])"
   ]
  },
  {
   "cell_type": "markdown",
   "id": "cc3a80f4-d875-4daa-8aac-91ee8db8ccc0",
   "metadata": {
    "user_expressions": []
   },
   "source": [
    "### 2. Develop the alignment metrics"
   ]
  },
  {
   "cell_type": "code",
   "execution_count": 6,
   "id": "cccf0561-f157-4041-8d2d-9c9b170f0187",
   "metadata": {
    "tags": []
   },
   "outputs": [
    {
     "data": {
      "text/plain": [
       "array([0.07200801, 0.18278161, 0.14073106, 0.11509637, 0.0299957 ,\n",
       "       0.02999106, 0.01116699, 0.16652855, 0.11556865, 0.13613201])"
      ]
     },
     "execution_count": 6,
     "metadata": {},
     "output_type": "execute_result"
    }
   ],
   "source": [
    "random_floats = np.random.rand(10)\n",
    "explanation = random_floats / sum(random_floats)\n",
    "explanation"
   ]
  },
  {
   "cell_type": "code",
   "execution_count": 7,
   "id": "d6ed9a66-8632-4b11-b1a4-94fce321f4d9",
   "metadata": {
    "tags": []
   },
   "outputs": [
    {
     "data": {
      "text/plain": [
       "array([0., 0., 0., 0., 0., 1., 1., 0., 0., 0.])"
      ]
     },
     "execution_count": 7,
     "metadata": {},
     "output_type": "execute_result"
    }
   ],
   "source": [
    "known_evidence = np.zeros(10)\n",
    "known_evidence[5] = 1\n",
    "known_evidence[6] = 1\n",
    "known_evidence"
   ]
  },
  {
   "cell_type": "code",
   "execution_count": 8,
   "id": "714dd059-1fa9-4643-a54f-978a65ba6a0a",
   "metadata": {
    "tags": []
   },
   "outputs": [],
   "source": [
    "def compute_mean_dot_product(explanations, known_evidences):\n",
    "    \"\"\"\n",
    "    Computes the average dot product between the explanation and known\n",
    "    evidence over all sentences.\n",
    "    \"\"\"\n",
    "\n",
    "    sum_of_dot_products = 0\n",
    "\n",
    "    for explanation, known_evidence in zip(explanations, known_evidences):\n",
    "        sum_of_dot_products += np.dot(explanation, known_evidence)\n",
    "\n",
    "    average_dot_product = sum_of_dot_products / len(explanations)\n",
    "\n",
    "    return average_dot_product"
   ]
  },
  {
   "cell_type": "code",
   "execution_count": 9,
   "id": "7ea0696d-391d-4283-b988-90b67f14e6d2",
   "metadata": {
    "tags": []
   },
   "outputs": [
    {
     "data": {
      "text/plain": [
       "0.04115804897193038"
      ]
     },
     "execution_count": 9,
     "metadata": {},
     "output_type": "execute_result"
    }
   ],
   "source": [
    "compute_mean_dot_product([explanation], [known_evidence])"
   ]
  },
  {
   "cell_type": "code",
   "execution_count": 10,
   "id": "f8464125-3f84-4f6d-856c-f2d3c77bec94",
   "metadata": {},
   "outputs": [],
   "source": [
    "def compute_probes_needed(explanation, known_evidence):\n",
    "    \"\"\"\n",
    "    Computes the number of words we need to probe (look at) based on\n",
    "    the saliency map to find the most important word. Basically, we\n",
    "    get the rank of the word of interest after words were sorted\n",
    "    descending by the saliency value.\n",
    "    \"\"\"\n",
    "\n",
    "    probes_number = 1\n",
    "    explanation_evidence = dict(zip(explanation, known_evidence)).items()\n",
    "    sorted_explanation_evidence = sorted(explanation_evidence, reverse=True)\n",
    "\n",
    "    for word_info in sorted_explanation_evidence:\n",
    "        saliency_value, is_known_evidence = word_info\n",
    "\n",
    "        if is_known_evidence == 0:\n",
    "            probes_number += 1\n",
    "        else:\n",
    "            break\n",
    "\n",
    "    return probes_number"
   ]
  },
  {
   "cell_type": "code",
   "execution_count": 11,
   "id": "31c118f1-54f3-4ae1-be50-de73bf3e219f",
   "metadata": {
    "tags": []
   },
   "outputs": [],
   "source": [
    "def compute_mean_probes_needed(explanations, known_evidences):\n",
    "    \"\"\"\n",
    "    Computes the average number of words we need to probe (look at) based on\n",
    "    the saliency map to find the most important word. Basically, we get the\n",
    "    average rank of the word of interest after words were sorted descending\n",
    "    by the saliency value.\n",
    "    \"\"\"\n",
    "\n",
    "    sum_of_probes_needed = 0\n",
    "\n",
    "    for explanation, known_evidence in zip(explanations, known_evidences):\n",
    "        sum_of_probes_needed += compute_probes_needed(explanation, known_evidence)\n",
    "\n",
    "    average_probes_needed = sum_of_probes_needed / len(explanations)\n",
    "\n",
    "    return average_probes_needed"
   ]
  },
  {
   "cell_type": "code",
   "execution_count": 12,
   "id": "94f36d2b-a891-403f-b7fd-32f991d34187",
   "metadata": {
    "tags": []
   },
   "outputs": [
    {
     "data": {
      "text/plain": [
       "9.0"
      ]
     },
     "execution_count": 12,
     "metadata": {},
     "output_type": "execute_result"
    }
   ],
   "source": [
    "compute_mean_probes_needed([explanation], [known_evidence])"
   ]
  },
  {
   "cell_type": "code",
   "execution_count": 13,
   "id": "e8eba7d4-fdf1-40d2-87f9-ced09c30683a",
   "metadata": {
    "tags": []
   },
   "outputs": [],
   "source": [
    "def compute_mean_reciprocal_rank(explanations, known_evidences):\n",
    "    \"\"\"\n",
    "    Calculates the average of the inverse rank of the first token that\n",
    "    is part of the known evidence.\n",
    "    \"\"\"\n",
    "\n",
    "    sum_of_inverse_ranks = 0\n",
    "\n",
    "    for explanation, known_evidence in zip(explanations, known_evidences):\n",
    "        # consider only the appearance of the first token of interest\n",
    "        for index in np.where(known_evidence == 1)[0][1:]:\n",
    "            known_evidence[index] = 0\n",
    "\n",
    "        inverse_ranking = 1 / compute_probes_needed(explanation, known_evidence)\n",
    "        sum_of_inverse_ranks += inverse_ranking\n",
    "\n",
    "    mean_inverse_rank = sum_of_inverse_ranks / len(explanations)\n",
    "\n",
    "    return mean_inverse_rank"
   ]
  },
  {
   "cell_type": "code",
   "execution_count": 14,
   "id": "1a842481-1fa3-4360-9ac7-5258adb24dca",
   "metadata": {
    "tags": []
   },
   "outputs": [
    {
     "data": {
      "text/plain": [
       "0.1111111111111111"
      ]
     },
     "execution_count": 14,
     "metadata": {},
     "output_type": "execute_result"
    }
   ],
   "source": [
    "compute_mean_reciprocal_rank([explanation], [known_evidence])"
   ]
  }
 ],
 "metadata": {
  "kernelspec": {
   "display_name": "Python",
   "language": "python",
   "name": "python3"
  },
  "language_info": {
   "codemirror_mode": {
    "name": "ipython",
    "version": 3
   },
   "file_extension": ".py",
   "mimetype": "text/x-python",
   "name": "python",
   "nbconvert_exporter": "python",
   "pygments_lexer": "ipython3",
   "version": "3.8.10"
  }
 },
 "nbformat": 4,
 "nbformat_minor": 5
}
