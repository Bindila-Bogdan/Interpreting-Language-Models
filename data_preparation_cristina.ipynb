{
 "cells": [
  {
   "cell_type": "markdown",
   "id": "363a078c-6808-4bf5-ad66-750c2047b5b4",
   "metadata": {
    "tags": [],
    "user_expressions": []
   },
   "source": [
    "### 0. Import libraries"
   ]
  },
  {
   "cell_type": "code",
   "execution_count": 9,
   "id": "62614185-9ef7-461f-a03f-3722799697a9",
   "metadata": {
    "tags": []
   },
   "outputs": [],
   "source": [
    "# These two commands are needed\n",
    "# !pip install transformers\n",
    "# !pip install accelerate\n",
    "# !pip install spacy\n",
    "# !python -m spacy download en\n",
    "# !pip uninstall spacy -y\n",
    "# !python -m pip install spacy==2.1.0.\n",
    "# !pip install neuralcoref"
   ]
  },
  {
   "cell_type": "code",
   "execution_count": 2,
   "id": "7336fa36-a5dc-43d9-976e-427a9e8c4e9b",
   "metadata": {
    "tags": []
   },
   "outputs": [],
   "source": [
    "%load_ext autoreload\n",
    "%autoreload 2"
   ]
  },
  {
   "cell_type": "code",
   "execution_count": 10,
   "id": "1a29510a-b6f4-492a-b028-0776461b1199",
   "metadata": {
    "tags": []
   },
   "outputs": [
    {
     "name": "stderr",
     "output_type": "stream",
     "text": [
      "/home/jovyan/.local/lib/python3.8/site-packages/transformers/utils/generic.py:311: UserWarning: torch.utils._pytree._register_pytree_node is deprecated. Please use torch.utils._pytree.register_pytree_node instead.\n",
      "  torch.utils._pytree._register_pytree_node(\n",
      "/home/jovyan/.local/lib/python3.8/site-packages/transformers/utils/generic.py:311: UserWarning: torch.utils._pytree._register_pytree_node is deprecated. Please use torch.utils._pytree.register_pytree_node instead.\n",
      "  torch.utils._pytree._register_pytree_node(\n",
      "2024-06-29 23:07:02.871429: I tensorflow/core/platform/cpu_feature_guard.cc:193] This TensorFlow binary is optimized with oneAPI Deep Neural Network Library (oneDNN) to use the following CPU instructions in performance-critical operations:  AVX2 FMA\n",
      "To enable them in other operations, rebuild TensorFlow with the appropriate compiler flags.\n",
      "2024-06-29 23:07:03.698557: W tensorflow/compiler/xla/stream_executor/platform/default/dso_loader.cc:64] Could not load dynamic library 'libnvinfer.so.7'; dlerror: libnvinfer.so.7: cannot open shared object file: No such file or directory; LD_LIBRARY_PATH: /usr/local/lib:/usr/local/nvidia/lib:/usr/local/nvidia/lib64\n",
      "2024-06-29 23:07:03.698663: W tensorflow/compiler/xla/stream_executor/platform/default/dso_loader.cc:64] Could not load dynamic library 'libnvinfer_plugin.so.7'; dlerror: libnvinfer_plugin.so.7: cannot open shared object file: No such file or directory; LD_LIBRARY_PATH: /usr/local/lib:/usr/local/nvidia/lib:/usr/local/nvidia/lib64\n",
      "2024-06-29 23:07:03.698670: W tensorflow/compiler/tf2tensorrt/utils/py_utils.cc:38] TF-TRT Warning: Cannot dlopen some TensorRT libraries. If you would like to use Nvidia GPU with TensorRT, please make sure the missing libraries mentioned above are installed properly.\n",
      "/home/jovyan/.local/lib/python3.8/site-packages/spacy/util.py:275: UserWarning: [W031] Model 'en_core_web_sm' (3.7.1) requires spaCy v3.7 and is incompatible with the current spaCy version (2.3.5). This may lead to unexpected results or runtime errors. To resolve this, download a newer compatible model or retrain your custom model with the current spaCy version. For more details and available updates, run: python -m spacy validate\n",
      "  warnings.warn(warn_msg)\n"
     ]
    },
    {
     "name": "stdout",
     "output_type": "stream",
     "text": [
      "Unexpected exception formatting exception. Falling back to standard exception\n"
     ]
    },
    {
     "name": "stderr",
     "output_type": "stream",
     "text": [
      "Traceback (most recent call last):\n",
      "  File \"/home/jovyan/.local/lib/python3.8/site-packages/spacy/util.py\", line 78, in get_lang_class\n",
      "    module = importlib.import_module(\".lang.%s\" % lang, \"spacy\")\n",
      "  File \"/usr/lib/python3.8/importlib/__init__.py\", line 127, in import_module\n",
      "    return _bootstrap._gcd_import(name[level:], package, level)\n",
      "  File \"<frozen importlib._bootstrap>\", line 1014, in _gcd_import\n",
      "  File \"<frozen importlib._bootstrap>\", line 991, in _find_and_load\n",
      "  File \"<frozen importlib._bootstrap>\", line 975, in _find_and_load_unlocked\n",
      "  File \"<frozen importlib._bootstrap>\", line 671, in _load_unlocked\n",
      "  File \"<frozen importlib._bootstrap_external>\", line 848, in exec_module\n",
      "  File \"<frozen importlib._bootstrap>\", line 219, in _call_with_frames_removed\n",
      "  File \"/home/jovyan/.local/lib/python3.8/site-packages/spacy/lang/en/__init__.py\", line 4, in <module>\n",
      "    from .tokenizer_exceptions import TOKENIZER_EXCEPTIONS\n",
      "  File \"/home/jovyan/.local/lib/python3.8/site-packages/spacy/lang/en/tokenizer_exceptions.py\", line 4, in <module>\n",
      "    from ...symbols import ORTH, LEMMA, TAG, NORM, PRON_LEMMA\n",
      "ImportError: cannot import name 'PRON_LEMMA' from 'spacy.symbols' (/home/jovyan/.local/lib/python3.8/site-packages/spacy/symbols.cpython-38-x86_64-linux-gnu.so)\n",
      "\n",
      "During handling of the above exception, another exception occurred:\n",
      "\n",
      "Traceback (most recent call last):\n",
      "  File \"/usr/local/lib/python3.8/dist-packages/IPython/core/interactiveshell.py\", line 3508, in run_code\n",
      "    exec(code_obj, self.user_global_ns, self.user_ns)\n",
      "  File \"/tmp/ipykernel_4036/3779231680.py\", line 25, in <module>\n",
      "    nlp = spacy.load(\"en_core_web_sm\")\n",
      "  File \"/home/jovyan/.local/lib/python3.8/site-packages/spacy/__init__.py\", line 51, in load\n",
      "  File \"/home/jovyan/.local/lib/python3.8/site-packages/spacy/util.py\", line 170, in load_model\n",
      "    return load_model_from_package(name, **overrides)\n",
      "  File \"/home/jovyan/.local/lib/python3.8/site-packages/spacy/util.py\", line 191, in load_model_from_package\n",
      "    return cls.load(**overrides)\n",
      "  File \"/home/jovyan/.local/lib/python3.8/site-packages/en_core_web_sm/__init__.py\", line 10, in load\n",
      "    return load_model_from_init_py(__file__, **overrides)\n",
      "  File \"/home/jovyan/.local/lib/python3.8/site-packages/spacy/util.py\", line 239, in load_model_from_init_py\n",
      "    return load_model_from_path(data_path, meta, **overrides)\n",
      "  File \"/home/jovyan/.local/lib/python3.8/site-packages/spacy/util.py\", line 202, in load_model_from_path\n",
      "    cls = get_lang_class(lang)\n",
      "  File \"/home/jovyan/.local/lib/python3.8/site-packages/spacy/util.py\", line 80, in get_lang_class\n",
      "    raise ImportError(Errors.E048.format(lang=lang, err=err))\n",
      "ImportError: [E048] Can't import language en from spacy.lang: cannot import name 'PRON_LEMMA' from 'spacy.symbols' (/home/jovyan/.local/lib/python3.8/site-packages/spacy/symbols.cpython-38-x86_64-linux-gnu.so)\n",
      "\n",
      "During handling of the above exception, another exception occurred:\n",
      "\n",
      "Traceback (most recent call last):\n",
      "  File \"/usr/local/lib/python3.8/dist-packages/IPython/core/interactiveshell.py\", line 2105, in showtraceback\n",
      "    stb = self.InteractiveTB.structured_traceback(\n",
      "  File \"/usr/local/lib/python3.8/dist-packages/IPython/core/ultratb.py\", line 1396, in structured_traceback\n",
      "    return FormattedTB.structured_traceback(\n",
      "  File \"/usr/local/lib/python3.8/dist-packages/IPython/core/ultratb.py\", line 1287, in structured_traceback\n",
      "    return VerboseTB.structured_traceback(\n",
      "  File \"/usr/local/lib/python3.8/dist-packages/IPython/core/ultratb.py\", line 1140, in structured_traceback\n",
      "    formatted_exception = self.format_exception_as_a_whole(etype, evalue, etb, number_of_lines_of_context,\n",
      "  File \"/usr/local/lib/python3.8/dist-packages/IPython/core/ultratb.py\", line 1055, in format_exception_as_a_whole\n",
      "    frames.append(self.format_record(record))\n",
      "  File \"/usr/local/lib/python3.8/dist-packages/IPython/core/ultratb.py\", line 955, in format_record\n",
      "    frame_info.lines, Colors, self.has_colors, lvals\n",
      "  File \"/usr/local/lib/python3.8/dist-packages/IPython/core/ultratb.py\", line 778, in lines\n",
      "    return self._sd.lines\n",
      "  File \"/usr/local/lib/python3.8/dist-packages/stack_data/utils.py\", line 145, in cached_property_wrapper\n",
      "    value = obj.__dict__[self.func.__name__] = self.func(obj)\n",
      "  File \"/usr/local/lib/python3.8/dist-packages/stack_data/core.py\", line 734, in lines\n",
      "    pieces = self.included_pieces\n",
      "  File \"/usr/local/lib/python3.8/dist-packages/stack_data/utils.py\", line 145, in cached_property_wrapper\n",
      "    value = obj.__dict__[self.func.__name__] = self.func(obj)\n",
      "  File \"/usr/local/lib/python3.8/dist-packages/stack_data/core.py\", line 681, in included_pieces\n",
      "    pos = scope_pieces.index(self.executing_piece)\n",
      "  File \"/usr/local/lib/python3.8/dist-packages/stack_data/utils.py\", line 145, in cached_property_wrapper\n",
      "    value = obj.__dict__[self.func.__name__] = self.func(obj)\n",
      "  File \"/usr/local/lib/python3.8/dist-packages/stack_data/core.py\", line 660, in executing_piece\n",
      "    return only(\n",
      "  File \"/usr/local/lib/python3.8/dist-packages/executing/executing.py\", line 116, in only\n",
      "    raise NotOneValueFound('Expected one value, found 0')\n",
      "executing.executing.NotOneValueFound: Expected one value, found 0\n"
     ]
    }
   ],
   "source": [
    "# import libraries\n",
    "import re\n",
    "import spacy\n",
    "import torch\n",
    "# import neuralcoref\n",
    "import numpy as np\n",
    "import transformers\n",
    "import pandas as pd\n",
    "from tqdm import tqdm\n",
    "from functools import reduce\n",
    "\n",
    "# import local scripts\n",
    "from data_loader import DatasetLoader\n",
    "from alignment_metrics import *\n",
    "from gpt2_model import GPT2Model\n",
    "\n",
    "# produce repeatable results\n",
    "np.random.seed(seed=42)\n",
    "transformers.set_seed(42)\n",
    "\n",
    "# enable CUDNN deterministic mode\n",
    "torch.backends.cudnn.deterministic = True\n",
    "torch.backends.cudnn.benchmark = False\n",
    "\n",
    "nlp = spacy.load(\"en_core_web_sm\")"
   ]
  },
  {
   "cell_type": "markdown",
   "id": "7c4173ef-0513-4bb0-a170-2129d03d67e2",
   "metadata": {
    "tags": [],
    "user_expressions": []
   },
   "source": [
    "### 1. Load the data"
   ]
  },
  {
   "cell_type": "markdown",
   "id": "a3b8d313-2265-4d12-8d46-b8f961cbc7e7",
   "metadata": {
    "user_expressions": []
   },
   "source": [
    "Below are the names of the datasets used by the authors to check if contrastive explanations identify linguistically appropriate evidence."
   ]
  },
  {
   "cell_type": "code",
   "execution_count": 5,
   "id": "8bb67dff-7496-415c-b1b2-978768144041",
   "metadata": {
    "tags": []
   },
   "outputs": [],
   "source": [
    "anaphor_agreement_datasets = [\"anaphor_gender_agreement\", \"anaphor_number_agreement\"]\n",
    "\n",
    "# not sure about the one below\n",
    "argument_structure_datasets = [\"animate_subject_passive\"]\n",
    "\n",
    "determiner_noun_agreement_datasets = [\n",
    "    \"determiner_noun_agreement_1\",\n",
    "    \"determiner_noun_agreement_2\",\n",
    "    \"determiner_noun_agreement_irregular_1\",\n",
    "    \"determiner_noun_agreement_irregular_2\",\n",
    "    \"determiner_noun_agreement_with_adj_2\",\n",
    "    \"determiner_noun_agreement_with_adj_irregular_1\",\n",
    "    \"determiner_noun_agreement_with_adj_irregular_2\",\n",
    "    \"determiner_noun_agreement_with_adjective_1\",\n",
    "    \"determiner_noun_agreement_with_adj_irregular_1\",\n",
    "    \"determiner_noun_agreement_with_adj_irregular_2\"\n",
    "]\n",
    "\n",
    "npi_licesing = [\n",
    "    \"npi_present_1\",\n",
    "    \"npi_present_2\"\n",
    "]\n",
    "\n",
    "subject_verb_agreement = [\n",
    "    \"distractor_agreement_relational_noun\"\n",
    "    \"irregular_plural_subject_verb_agreement_1\",\n",
    "    \"irregular_plural_subject_verb_agreement_2\",\n",
    "    \"regular_plural_subject_verb_agreement_1\",\n",
    "    \"regular_plural_subject_verb_agreement_2\",\n",
    "]"
   ]
  },
  {
   "cell_type": "code",
   "execution_count": 6,
   "id": "89280074-a98f-410b-9bb6-db1882ec86da",
   "metadata": {
    "tags": []
   },
   "outputs": [
    {
     "data": {
      "application/vnd.jupyter.widget-view+json": {
       "model_id": "b2928cc63ad3406e99ab4440adb5dbde",
       "version_major": 2,
       "version_minor": 0
      },
      "text/plain": [
       "Downloading data:   0%|          | 0.00/47.3k [00:00<?, ?B/s]"
      ]
     },
     "metadata": {},
     "output_type": "display_data"
    },
    {
     "data": {
      "application/vnd.jupyter.widget-view+json": {
       "model_id": "3d1a0b6e0aac46dc9d722d728c0f9a0e",
       "version_major": 2,
       "version_minor": 0
      },
      "text/plain": [
       "Generating train split:   0%|          | 0/1000 [00:00<?, ? examples/s]"
      ]
     },
     "metadata": {},
     "output_type": "display_data"
    },
    {
     "data": {
      "application/vnd.jupyter.widget-view+json": {
       "model_id": "64387367e53141e091421543024e0adf",
       "version_major": 2,
       "version_minor": 0
      },
      "text/plain": [
       "Creating json from Arrow format:   0%|          | 0/1 [00:00<?, ?ba/s]"
      ]
     },
     "metadata": {},
     "output_type": "display_data"
    },
    {
     "name": "stdout",
     "output_type": "stream",
     "text": [
      "The dataset is stored at ./data/\n"
     ]
    },
    {
     "data": {
      "text/html": [
       "<div>\n",
       "<style scoped>\n",
       "    .dataframe tbody tr th:only-of-type {\n",
       "        vertical-align: middle;\n",
       "    }\n",
       "\n",
       "    .dataframe tbody tr th {\n",
       "        vertical-align: top;\n",
       "    }\n",
       "\n",
       "    .dataframe thead th {\n",
       "        text-align: right;\n",
       "    }\n",
       "</style>\n",
       "<table border=\"1\" class=\"dataframe\">\n",
       "  <thead>\n",
       "    <tr style=\"text-align: right;\">\n",
       "      <th></th>\n",
       "      <th>sentence_good</th>\n",
       "      <th>sentence_bad</th>\n",
       "      <th>field</th>\n",
       "      <th>linguistics_term</th>\n",
       "      <th>UID</th>\n",
       "      <th>simple_LM_method</th>\n",
       "      <th>one_prefix_method</th>\n",
       "      <th>two_prefix_method</th>\n",
       "      <th>lexically_identical</th>\n",
       "      <th>pair_id</th>\n",
       "    </tr>\n",
       "  </thead>\n",
       "  <tbody>\n",
       "    <tr>\n",
       "      <th>0</th>\n",
       "      <td>Amanda was respected by some waitresses.</td>\n",
       "      <td>Amanda was respected by some picture.</td>\n",
       "      <td>syntax</td>\n",
       "      <td>s-selection</td>\n",
       "      <td>animate_subject_passive</td>\n",
       "      <td>True</td>\n",
       "      <td>True</td>\n",
       "      <td>False</td>\n",
       "      <td>False</td>\n",
       "      <td>0</td>\n",
       "    </tr>\n",
       "    <tr>\n",
       "      <th>1</th>\n",
       "      <td>Some lake was passed by some cashiers.</td>\n",
       "      <td>Some lake was passed by some phenomena.</td>\n",
       "      <td>syntax</td>\n",
       "      <td>s-selection</td>\n",
       "      <td>animate_subject_passive</td>\n",
       "      <td>True</td>\n",
       "      <td>True</td>\n",
       "      <td>False</td>\n",
       "      <td>False</td>\n",
       "      <td>1</td>\n",
       "    </tr>\n",
       "    <tr>\n",
       "      <th>2</th>\n",
       "      <td>Lisa was kissed by the boys.</td>\n",
       "      <td>Lisa was kissed by the blouses.</td>\n",
       "      <td>syntax</td>\n",
       "      <td>s-selection</td>\n",
       "      <td>animate_subject_passive</td>\n",
       "      <td>True</td>\n",
       "      <td>True</td>\n",
       "      <td>False</td>\n",
       "      <td>False</td>\n",
       "      <td>2</td>\n",
       "    </tr>\n",
       "    <tr>\n",
       "      <th>3</th>\n",
       "      <td>Amanda isn't respected by the children.</td>\n",
       "      <td>Amanda isn't respected by the cups.</td>\n",
       "      <td>syntax</td>\n",
       "      <td>s-selection</td>\n",
       "      <td>animate_subject_passive</td>\n",
       "      <td>True</td>\n",
       "      <td>True</td>\n",
       "      <td>False</td>\n",
       "      <td>False</td>\n",
       "      <td>3</td>\n",
       "    </tr>\n",
       "    <tr>\n",
       "      <th>4</th>\n",
       "      <td>The glove was noticed by some woman.</td>\n",
       "      <td>The glove was noticed by some mouse.</td>\n",
       "      <td>syntax</td>\n",
       "      <td>s-selection</td>\n",
       "      <td>animate_subject_passive</td>\n",
       "      <td>True</td>\n",
       "      <td>True</td>\n",
       "      <td>False</td>\n",
       "      <td>False</td>\n",
       "      <td>4</td>\n",
       "    </tr>\n",
       "    <tr>\n",
       "      <th>...</th>\n",
       "      <td>...</td>\n",
       "      <td>...</td>\n",
       "      <td>...</td>\n",
       "      <td>...</td>\n",
       "      <td>...</td>\n",
       "      <td>...</td>\n",
       "      <td>...</td>\n",
       "      <td>...</td>\n",
       "      <td>...</td>\n",
       "      <td>...</td>\n",
       "    </tr>\n",
       "    <tr>\n",
       "      <th>995</th>\n",
       "      <td>This pork was taken by some guy.</td>\n",
       "      <td>This pork was taken by some fish.</td>\n",
       "      <td>syntax</td>\n",
       "      <td>s-selection</td>\n",
       "      <td>animate_subject_passive</td>\n",
       "      <td>True</td>\n",
       "      <td>True</td>\n",
       "      <td>False</td>\n",
       "      <td>False</td>\n",
       "      <td>995</td>\n",
       "    </tr>\n",
       "    <tr>\n",
       "      <th>996</th>\n",
       "      <td>Newspaper articles weren't scanned by the men.</td>\n",
       "      <td>Newspaper articles weren't scanned by the phot...</td>\n",
       "      <td>syntax</td>\n",
       "      <td>s-selection</td>\n",
       "      <td>animate_subject_passive</td>\n",
       "      <td>True</td>\n",
       "      <td>True</td>\n",
       "      <td>False</td>\n",
       "      <td>False</td>\n",
       "      <td>996</td>\n",
       "    </tr>\n",
       "    <tr>\n",
       "      <th>997</th>\n",
       "      <td>Liam is talked about by the dancers.</td>\n",
       "      <td>Liam is talked about by the university.</td>\n",
       "      <td>syntax</td>\n",
       "      <td>s-selection</td>\n",
       "      <td>animate_subject_passive</td>\n",
       "      <td>True</td>\n",
       "      <td>True</td>\n",
       "      <td>False</td>\n",
       "      <td>False</td>\n",
       "      <td>997</td>\n",
       "    </tr>\n",
       "    <tr>\n",
       "      <th>998</th>\n",
       "      <td>Monet is sounded like by the man.</td>\n",
       "      <td>Monet is sounded like by the bread.</td>\n",
       "      <td>syntax</td>\n",
       "      <td>s-selection</td>\n",
       "      <td>animate_subject_passive</td>\n",
       "      <td>True</td>\n",
       "      <td>True</td>\n",
       "      <td>False</td>\n",
       "      <td>False</td>\n",
       "      <td>998</td>\n",
       "    </tr>\n",
       "    <tr>\n",
       "      <th>999</th>\n",
       "      <td>Paul was kissed by some girl.</td>\n",
       "      <td>Paul was kissed by some species.</td>\n",
       "      <td>syntax</td>\n",
       "      <td>s-selection</td>\n",
       "      <td>animate_subject_passive</td>\n",
       "      <td>True</td>\n",
       "      <td>True</td>\n",
       "      <td>False</td>\n",
       "      <td>False</td>\n",
       "      <td>999</td>\n",
       "    </tr>\n",
       "  </tbody>\n",
       "</table>\n",
       "<p>1000 rows × 10 columns</p>\n",
       "</div>"
      ],
      "text/plain": [
       "                                      sentence_good  \\\n",
       "0          Amanda was respected by some waitresses.   \n",
       "1            Some lake was passed by some cashiers.   \n",
       "2                      Lisa was kissed by the boys.   \n",
       "3           Amanda isn't respected by the children.   \n",
       "4              The glove was noticed by some woman.   \n",
       "..                                              ...   \n",
       "995                This pork was taken by some guy.   \n",
       "996  Newspaper articles weren't scanned by the men.   \n",
       "997            Liam is talked about by the dancers.   \n",
       "998               Monet is sounded like by the man.   \n",
       "999                   Paul was kissed by some girl.   \n",
       "\n",
       "                                          sentence_bad   field  \\\n",
       "0                Amanda was respected by some picture.  syntax   \n",
       "1              Some lake was passed by some phenomena.  syntax   \n",
       "2                      Lisa was kissed by the blouses.  syntax   \n",
       "3                  Amanda isn't respected by the cups.  syntax   \n",
       "4                 The glove was noticed by some mouse.  syntax   \n",
       "..                                                 ...     ...   \n",
       "995                  This pork was taken by some fish.  syntax   \n",
       "996  Newspaper articles weren't scanned by the phot...  syntax   \n",
       "997            Liam is talked about by the university.  syntax   \n",
       "998                Monet is sounded like by the bread.  syntax   \n",
       "999                   Paul was kissed by some species.  syntax   \n",
       "\n",
       "    linguistics_term                      UID  simple_LM_method  \\\n",
       "0        s-selection  animate_subject_passive              True   \n",
       "1        s-selection  animate_subject_passive              True   \n",
       "2        s-selection  animate_subject_passive              True   \n",
       "3        s-selection  animate_subject_passive              True   \n",
       "4        s-selection  animate_subject_passive              True   \n",
       "..               ...                      ...               ...   \n",
       "995      s-selection  animate_subject_passive              True   \n",
       "996      s-selection  animate_subject_passive              True   \n",
       "997      s-selection  animate_subject_passive              True   \n",
       "998      s-selection  animate_subject_passive              True   \n",
       "999      s-selection  animate_subject_passive              True   \n",
       "\n",
       "     one_prefix_method  two_prefix_method  lexically_identical  pair_id  \n",
       "0                 True              False                False        0  \n",
       "1                 True              False                False        1  \n",
       "2                 True              False                False        2  \n",
       "3                 True              False                False        3  \n",
       "4                 True              False                False        4  \n",
       "..                 ...                ...                  ...      ...  \n",
       "995               True              False                False      995  \n",
       "996               True              False                False      996  \n",
       "997               True              False                False      997  \n",
       "998               True              False                False      998  \n",
       "999               True              False                False      999  \n",
       "\n",
       "[1000 rows x 10 columns]"
      ]
     },
     "execution_count": 6,
     "metadata": {},
     "output_type": "execute_result"
    }
   ],
   "source": [
    "data_loader = DatasetLoader()\n",
    "data = pd.DataFrame(data_loader.load_data(argument_structure_datasets[0])[\"train\"])\n",
    "data"
   ]
  },
  {
   "cell_type": "markdown",
   "id": "b94351e1-83f3-40ae-a8c0-82dc2e0d2ed8",
   "metadata": {
    "tags": [],
    "user_expressions": []
   },
   "source": [
    "### 2. Prepare anaphor agreement data"
   ]
  },
  {
   "cell_type": "code",
   "execution_count": 7,
   "id": "09668026-f097-478e-9bf3-399618d4b2a5",
   "metadata": {
    "tags": []
   },
   "outputs": [],
   "source": [
    "def get_main_verb(sentence):\n",
    "    doc = nlp(sentence)\n",
    "    main_verbs = []\n",
    "\n",
    "    for token in doc:\n",
    "        if token.pos_ == \"VERB\":\n",
    "            main_verbs.append(token.text)\n",
    "\n",
    "    assert len(main_verbs) == 1\n",
    "\n",
    "    return main_verbs[0]"
   ]
  },
  {
   "cell_type": "code",
   "execution_count": 8,
   "id": "1cd0f7f0-c339-4d5f-abfd-96be969530e4",
   "metadata": {
    "tags": []
   },
   "outputs": [
    {
     "name": "stderr",
     "output_type": "stream",
     "text": [
      "100%|██████████| 1000/1000 [00:03<00:00, 269.30it/s]"
     ]
    },
    {
     "name": "stdout",
     "output_type": "stream",
     "text": [
      "The number of pairs with different number of words: 12\n"
     ]
    },
    {
     "name": "stderr",
     "output_type": "stream",
     "text": [
      "\n"
     ]
    }
   ],
   "source": [
    "extracted_sentences_data = []\n",
    "good_bad_sentences = data[[\"sentence_good\", \"sentence_bad\"]].to_numpy()\n",
    "dif_lengths = 0\n",
    "\n",
    "for good_sentence, bad_sentence in tqdm(good_bad_sentences):\n",
    "    # remove characters that are not letters or apostrophes and replace contractions\n",
    "    good_sentence_cleaned = re.sub(r\"[^\\w\\s']\", \"\", good_sentence).replace(\"n't\", \" not\")\n",
    "    bad_sentence_cleaned = re.sub(r\"[^\\w\\s']\", \"\", bad_sentence).replace(\"n't\", \" not\")\n",
    "\n",
    "    # tokenize the text\n",
    "    good_sentence_tokenized = good_sentence_cleaned.split(\" \")\n",
    "    bad_sentence_tokenized = bad_sentence_cleaned.split(\" \")\n",
    "\n",
    "    # consider only pairs of sentences with the same number of words\n",
    "    number_considered_words = min(len(good_sentence_tokenized), len(bad_sentence_tokenized))\n",
    "    if len(good_sentence_tokenized) != len(bad_sentence_tokenized):\n",
    "        dif_lengths += 1\n",
    "\n",
    "    good_sentence_tokenized = good_sentence_tokenized[:number_considered_words]\n",
    "    bad_sentence_tokenized = bad_sentence_tokenized[:number_considered_words]\n",
    "\n",
    "    # get the main verb of the sentence\n",
    "    main_verb = get_main_verb(good_sentence)\n",
    "\n",
    "    # get the common part of the two sentences (until the first different word)\n",
    "    same_tokens = np.array(good_sentence_tokenized) == np.array(bad_sentence_tokenized)\n",
    "    index_first_diff_token = np.where(same_tokens == False)[0][0]\n",
    "\n",
    "    common_sentence_tokenized = good_sentence_tokenized[:index_first_diff_token]\n",
    "    common_sentence = \" \".join(common_sentence_tokenized)\n",
    "\n",
    "    # construct an array where 1s represent the position of the target word\n",
    "    known_evidence = np.zeros(len(common_sentence_tokenized))\n",
    "    evidence_index = np.where(np.array(common_sentence_tokenized) == main_verb)[0][0]\n",
    "    known_evidence[evidence_index] = 1\n",
    "\n",
    "    # get the correct and foil words\n",
    "    correct_word = good_sentence_tokenized[index_first_diff_token]\n",
    "    foil_word = bad_sentence_tokenized[index_first_diff_token]\n",
    "\n",
    "    extracted_sentences_data.append([known_evidence, common_sentence, correct_word, foil_word])\n",
    "\n",
    "print(f\"The number of pairs with different number of words: {dif_lengths}\")"
   ]
  },
  {
   "cell_type": "code",
   "execution_count": 9,
   "id": "172bda0c-0298-48fc-83d4-fd09b24049f3",
   "metadata": {
    "tags": []
   },
   "outputs": [
    {
     "name": "stderr",
     "output_type": "stream",
     "text": [
      "/home/jovyan/.local/lib/python3.8/site-packages/huggingface_hub/file_download.py:1132: FutureWarning: `resume_download` is deprecated and will be removed in version 1.0.0. Downloads always resume when possible. If you want to force a new download, use `force_download=True`.\n",
      "  warnings.warn(\n"
     ]
    }
   ],
   "source": [
    "gpt2model = GPT2Model()"
   ]
  },
  {
   "cell_type": "code",
   "execution_count": 10,
   "id": "fa18c957-60e5-404b-8ed5-c693e1e58564",
   "metadata": {
    "tags": []
   },
   "outputs": [],
   "source": [
    "def match_evidence_with_tokenization(space_tokenization, gpt_tokenization, known_evidence):\n",
    "    # this function adds 0s or 1s in the known evidence to match the gpt tokens\n",
    "\n",
    "    space_tokenization_index = 0\n",
    "    updated_known_evidence = []\n",
    "    accumulated_string = gpt_tokenization[0]\n",
    "\n",
    "    for gpt_tokenization_index, gpt_token in enumerate(gpt_tokenization[1:]):\n",
    "        if accumulated_string == space_tokenization[space_tokenization_index]:\n",
    "            updated_known_evidence.append(known_evidence[space_tokenization_index])\n",
    "            gpt_tokenization_index += 1\n",
    "            accumulated_string = gpt_tokenization[gpt_tokenization_index]\n",
    "            space_tokenization_index += 1\n",
    "\n",
    "        else:\n",
    "            accumulated_string += gpt_token\n",
    "            updated_known_evidence.append(known_evidence[space_tokenization_index])\n",
    "\n",
    "    updated_known_evidence.append(known_evidence[space_tokenization_index])\n",
    "\n",
    "    return updated_known_evidence"
   ]
  },
  {
   "cell_type": "code",
   "execution_count": 11,
   "id": "0fe1695d-0bef-456c-9702-1bfaf56f9bf5",
   "metadata": {
    "tags": []
   },
   "outputs": [
    {
     "name": "stderr",
     "output_type": "stream",
     "text": [
      "  0%|          | 0/10 [00:00<?, ?it/s]/home/jovyan/EAI/project/gpt2_model.py:82: UserWarning: To copy construct from a tensor, it is recommended to use sourceTensor.clone().detach() or sourceTensor.clone().detach().requires_grad_(True), rather than torch.tensor(sourceTensor).\n",
      "  gradient_norm = torch.norm(torch.tensor(gradients[i]), p=1)\n",
      "100%|██████████| 10/10 [00:03<00:00,  3.22it/s]\n"
     ]
    }
   ],
   "source": [
    "different_tokenization = 0\n",
    "gradient_norm_dot_product = []\n",
    "gradient_norm_probes_needed = []\n",
    "\n",
    "\n",
    "for sentence_data in tqdm(extracted_sentences_data[:10]):\n",
    "    known_evidence = sentence_data[0]\n",
    "    sentence = sentence_data[1]\n",
    "    correct_word = sentence_data[2]\n",
    "    foil_word = sentence_data[3]\n",
    "\n",
    "    saliency_map = gpt2model.get_contrastive_gradient_norm(sentence, correct_word, foil_word)\n",
    "    extracted_words = [explanation[0].strip() for explanation in saliency_map]\n",
    "    explanation = [explanation[1] for explanation in saliency_map]\n",
    "\n",
    "    if sentence.split(\" \") != extracted_words:\n",
    "        known_evidence = match_evidence_with_tokenization(sentence.split(\" \"), extracted_words, known_evidence)\n",
    "\n",
    "    updated_known_evidence = match_evidence_with_tokenization(sentence.split(\" \"), extracted_words, known_evidence)\n",
    "    gradient_norm_dot_product.append(compute_mean_dot_product([explanation], [updated_known_evidence]))"
   ]
  },
  {
   "cell_type": "code",
   "execution_count": 12,
   "id": "8492186b-9d0a-43c2-976b-81d40762837a",
   "metadata": {
    "tags": []
   },
   "outputs": [
    {
     "data": {
      "text/plain": [
       "0.1572659960258419"
      ]
     },
     "execution_count": 12,
     "metadata": {},
     "output_type": "execute_result"
    }
   ],
   "source": [
    "np.array(gradient_norm_dot_product).mean()"
   ]
  },
  {
   "cell_type": "code",
   "execution_count": 13,
   "id": "c0040ac5-e610-4221-b40d-3716e4b25892",
   "metadata": {
    "tags": []
   },
   "outputs": [
    {
     "data": {
      "application/vnd.jupyter.widget-view+json": {
       "model_id": "95003e0695284536b0a69ec6b9aa924d",
       "version_major": 2,
       "version_minor": 0
      },
      "text/plain": [
       "Generating train split: 0 examples [00:00, ? examples/s]"
      ]
     },
     "metadata": {},
     "output_type": "display_data"
    }
   ],
   "source": [
    "data_loader = DatasetLoader()\n",
    "data = data_loader.load_data(determiner_noun_agreement_datasets[0])"
   ]
  },
  {
   "cell_type": "code",
   "execution_count": 14,
   "id": "dcc01c3e-c26a-4637-9ca6-b4c7ce1ffb37",
   "metadata": {
    "tags": []
   },
   "outputs": [
    {
     "data": {
      "text/html": [
       "<div>\n",
       "<style scoped>\n",
       "    .dataframe tbody tr th:only-of-type {\n",
       "        vertical-align: middle;\n",
       "    }\n",
       "\n",
       "    .dataframe tbody tr th {\n",
       "        vertical-align: top;\n",
       "    }\n",
       "\n",
       "    .dataframe thead th {\n",
       "        text-align: right;\n",
       "    }\n",
       "</style>\n",
       "<table border=\"1\" class=\"dataframe\">\n",
       "  <thead>\n",
       "    <tr style=\"text-align: right;\">\n",
       "      <th></th>\n",
       "      <th>sentence_good</th>\n",
       "      <th>sentence_bad</th>\n",
       "      <th>field</th>\n",
       "      <th>linguistics_term</th>\n",
       "      <th>UID</th>\n",
       "      <th>simple_LM_method</th>\n",
       "      <th>one_prefix_method</th>\n",
       "      <th>two_prefix_method</th>\n",
       "      <th>lexically_identical</th>\n",
       "      <th>pair_id</th>\n",
       "    </tr>\n",
       "  </thead>\n",
       "  <tbody>\n",
       "    <tr>\n",
       "      <th>0</th>\n",
       "      <td>Raymond is selling this sketch.</td>\n",
       "      <td>Raymond is selling this sketches.</td>\n",
       "      <td>morphology</td>\n",
       "      <td>determiner_noun_agreement</td>\n",
       "      <td>determiner_noun_agreement_1</td>\n",
       "      <td>True</td>\n",
       "      <td>True</td>\n",
       "      <td>False</td>\n",
       "      <td>True</td>\n",
       "      <td>0</td>\n",
       "    </tr>\n",
       "    <tr>\n",
       "      <th>1</th>\n",
       "      <td>Craig explored that grocery store.</td>\n",
       "      <td>Craig explored that grocery stores.</td>\n",
       "      <td>morphology</td>\n",
       "      <td>determiner_noun_agreement</td>\n",
       "      <td>determiner_noun_agreement_1</td>\n",
       "      <td>True</td>\n",
       "      <td>True</td>\n",
       "      <td>False</td>\n",
       "      <td>True</td>\n",
       "      <td>1</td>\n",
       "    </tr>\n",
       "    <tr>\n",
       "      <th>2</th>\n",
       "      <td>Eva has scared these children.</td>\n",
       "      <td>Eva has scared these child.</td>\n",
       "      <td>morphology</td>\n",
       "      <td>determiner_noun_agreement</td>\n",
       "      <td>determiner_noun_agreement_1</td>\n",
       "      <td>True</td>\n",
       "      <td>True</td>\n",
       "      <td>False</td>\n",
       "      <td>True</td>\n",
       "      <td>2</td>\n",
       "    </tr>\n",
       "    <tr>\n",
       "      <th>3</th>\n",
       "      <td>Marcus would conceal that pamphlet.</td>\n",
       "      <td>Marcus would conceal that pamphlets.</td>\n",
       "      <td>morphology</td>\n",
       "      <td>determiner_noun_agreement</td>\n",
       "      <td>determiner_noun_agreement_1</td>\n",
       "      <td>True</td>\n",
       "      <td>True</td>\n",
       "      <td>False</td>\n",
       "      <td>True</td>\n",
       "      <td>3</td>\n",
       "    </tr>\n",
       "    <tr>\n",
       "      <th>4</th>\n",
       "      <td>Carmen hadn't shocked these customers.</td>\n",
       "      <td>Carmen hadn't shocked these customer.</td>\n",
       "      <td>morphology</td>\n",
       "      <td>determiner_noun_agreement</td>\n",
       "      <td>determiner_noun_agreement_1</td>\n",
       "      <td>True</td>\n",
       "      <td>True</td>\n",
       "      <td>False</td>\n",
       "      <td>True</td>\n",
       "      <td>4</td>\n",
       "    </tr>\n",
       "    <tr>\n",
       "      <th>...</th>\n",
       "      <td>...</td>\n",
       "      <td>...</td>\n",
       "      <td>...</td>\n",
       "      <td>...</td>\n",
       "      <td>...</td>\n",
       "      <td>...</td>\n",
       "      <td>...</td>\n",
       "      <td>...</td>\n",
       "      <td>...</td>\n",
       "      <td>...</td>\n",
       "    </tr>\n",
       "    <tr>\n",
       "      <th>995</th>\n",
       "      <td>Most gloves disgusted this actress.</td>\n",
       "      <td>Most gloves disgusted this actresses.</td>\n",
       "      <td>morphology</td>\n",
       "      <td>determiner_noun_agreement</td>\n",
       "      <td>determiner_noun_agreement_1</td>\n",
       "      <td>True</td>\n",
       "      <td>True</td>\n",
       "      <td>False</td>\n",
       "      <td>True</td>\n",
       "      <td>995</td>\n",
       "    </tr>\n",
       "    <tr>\n",
       "      <th>996</th>\n",
       "      <td>Some pasta had disturbed these museums.</td>\n",
       "      <td>Some pasta had disturbed these museum.</td>\n",
       "      <td>morphology</td>\n",
       "      <td>determiner_noun_agreement</td>\n",
       "      <td>determiner_noun_agreement_1</td>\n",
       "      <td>True</td>\n",
       "      <td>True</td>\n",
       "      <td>False</td>\n",
       "      <td>True</td>\n",
       "      <td>996</td>\n",
       "    </tr>\n",
       "    <tr>\n",
       "      <th>997</th>\n",
       "      <td>Those people sound like this art gallery.</td>\n",
       "      <td>Those people sound like this art galleries.</td>\n",
       "      <td>morphology</td>\n",
       "      <td>determiner_noun_agreement</td>\n",
       "      <td>determiner_noun_agreement_1</td>\n",
       "      <td>True</td>\n",
       "      <td>True</td>\n",
       "      <td>False</td>\n",
       "      <td>True</td>\n",
       "      <td>997</td>\n",
       "    </tr>\n",
       "    <tr>\n",
       "      <th>998</th>\n",
       "      <td>Many snakes haven't broken these chairs.</td>\n",
       "      <td>Many snakes haven't broken these chair.</td>\n",
       "      <td>morphology</td>\n",
       "      <td>determiner_noun_agreement</td>\n",
       "      <td>determiner_noun_agreement_1</td>\n",
       "      <td>True</td>\n",
       "      <td>True</td>\n",
       "      <td>False</td>\n",
       "      <td>True</td>\n",
       "      <td>998</td>\n",
       "    </tr>\n",
       "    <tr>\n",
       "      <th>999</th>\n",
       "      <td>Derek boycotts those schools.</td>\n",
       "      <td>Derek boycotts those school.</td>\n",
       "      <td>morphology</td>\n",
       "      <td>determiner_noun_agreement</td>\n",
       "      <td>determiner_noun_agreement_1</td>\n",
       "      <td>True</td>\n",
       "      <td>True</td>\n",
       "      <td>False</td>\n",
       "      <td>True</td>\n",
       "      <td>999</td>\n",
       "    </tr>\n",
       "  </tbody>\n",
       "</table>\n",
       "<p>1000 rows × 10 columns</p>\n",
       "</div>"
      ],
      "text/plain": [
       "                                 sentence_good  \\\n",
       "0              Raymond is selling this sketch.   \n",
       "1           Craig explored that grocery store.   \n",
       "2               Eva has scared these children.   \n",
       "3          Marcus would conceal that pamphlet.   \n",
       "4       Carmen hadn't shocked these customers.   \n",
       "..                                         ...   \n",
       "995        Most gloves disgusted this actress.   \n",
       "996    Some pasta had disturbed these museums.   \n",
       "997  Those people sound like this art gallery.   \n",
       "998   Many snakes haven't broken these chairs.   \n",
       "999              Derek boycotts those schools.   \n",
       "\n",
       "                                    sentence_bad       field  \\\n",
       "0              Raymond is selling this sketches.  morphology   \n",
       "1            Craig explored that grocery stores.  morphology   \n",
       "2                    Eva has scared these child.  morphology   \n",
       "3           Marcus would conceal that pamphlets.  morphology   \n",
       "4          Carmen hadn't shocked these customer.  morphology   \n",
       "..                                           ...         ...   \n",
       "995        Most gloves disgusted this actresses.  morphology   \n",
       "996       Some pasta had disturbed these museum.  morphology   \n",
       "997  Those people sound like this art galleries.  morphology   \n",
       "998      Many snakes haven't broken these chair.  morphology   \n",
       "999                 Derek boycotts those school.  morphology   \n",
       "\n",
       "              linguistics_term                          UID  simple_LM_method  \\\n",
       "0    determiner_noun_agreement  determiner_noun_agreement_1              True   \n",
       "1    determiner_noun_agreement  determiner_noun_agreement_1              True   \n",
       "2    determiner_noun_agreement  determiner_noun_agreement_1              True   \n",
       "3    determiner_noun_agreement  determiner_noun_agreement_1              True   \n",
       "4    determiner_noun_agreement  determiner_noun_agreement_1              True   \n",
       "..                         ...                          ...               ...   \n",
       "995  determiner_noun_agreement  determiner_noun_agreement_1              True   \n",
       "996  determiner_noun_agreement  determiner_noun_agreement_1              True   \n",
       "997  determiner_noun_agreement  determiner_noun_agreement_1              True   \n",
       "998  determiner_noun_agreement  determiner_noun_agreement_1              True   \n",
       "999  determiner_noun_agreement  determiner_noun_agreement_1              True   \n",
       "\n",
       "     one_prefix_method  two_prefix_method  lexically_identical  pair_id  \n",
       "0                 True              False                 True        0  \n",
       "1                 True              False                 True        1  \n",
       "2                 True              False                 True        2  \n",
       "3                 True              False                 True        3  \n",
       "4                 True              False                 True        4  \n",
       "..                 ...                ...                  ...      ...  \n",
       "995               True              False                 True      995  \n",
       "996               True              False                 True      996  \n",
       "997               True              False                 True      997  \n",
       "998               True              False                 True      998  \n",
       "999               True              False                 True      999  \n",
       "\n",
       "[1000 rows x 10 columns]"
      ]
     },
     "execution_count": 14,
     "metadata": {},
     "output_type": "execute_result"
    }
   ],
   "source": [
    "pd.DataFrame(data[\"train\"])"
   ]
  },
  {
   "cell_type": "code",
   "execution_count": 53,
   "id": "3eaedd71-2140-40aa-81a1-7921d200ae4d",
   "metadata": {
    "tags": []
   },
   "outputs": [],
   "source": [
    "def extract_determiner_from_target_noun(text, target_noun):\n",
    "    doc = nlp(text)\n",
    "\n",
    "    for token in doc:\n",
    "        if token.text.lower() == target_noun.lower() and token.pos_ == \"NOUN\":\n",
    "            for child in token.children:\n",
    "                if child.dep_ == \"det\":\n",
    "                    return child.text\n",
    "    return None"
   ]
  },
  {
   "cell_type": "code",
   "execution_count": 54,
   "id": "2a4c33a2-2ac1-4b16-9549-ee759da74b60",
   "metadata": {
    "tags": []
   },
   "outputs": [],
   "source": [
    "text = \"Those people sound like this art gallery.\"\n",
    "target_noun = \"gallery\""
   ]
  },
  {
   "cell_type": "code",
   "execution_count": 55,
   "id": "0fb88f07-7fcb-47d6-8c33-7c2a3afe9332",
   "metadata": {
    "tags": []
   },
   "outputs": [
    {
     "data": {
      "text/plain": [
       "'this'"
      ]
     },
     "execution_count": 55,
     "metadata": {},
     "output_type": "execute_result"
    }
   ],
   "source": [
    "extract_determiner_from_target_noun(text, target_noun)"
   ]
  },
  {
   "cell_type": "code",
   "execution_count": 60,
   "id": "98940723-2c57-4697-9454-3a3471055c88",
   "metadata": {
    "tags": []
   },
   "outputs": [
    {
     "data": {
      "text/plain": [
       "0                          The women meet.\n",
       "1         The child isn't attacking Becky.\n",
       "2      The woman cleans every public park.\n",
       "3      The man works with some pedestrian.\n",
       "4         The men have revealed Christina.\n",
       "                      ...                 \n",
       "995                    The children smile.\n",
       "996                   The child scratches.\n",
       "997             The child discovers Steve.\n",
       "998            The alumni hate all ladies.\n",
       "999             The woman hasn't departed.\n",
       "Name: sentence_good, Length: 1000, dtype: object"
      ]
     },
     "execution_count": 60,
     "metadata": {},
     "output_type": "execute_result"
    }
   ],
   "source": [
    "str(pd.DataFrame(data[\"train\"]).sentence_good)"
   ]
  },
  {
   "cell_type": "code",
   "execution_count": 36,
   "id": "9f14fc7f-2e0b-4c81-8cb1-75d105f00172",
   "metadata": {
    "tags": []
   },
   "outputs": [
    {
     "data": {
      "application/vnd.jupyter.widget-view+json": {
       "model_id": "802db53c687f4ac7918496d0fe3e628e",
       "version_major": 2,
       "version_minor": 0
      },
      "text/plain": [
       "Generating train split: 0 examples [00:00, ? examples/s]"
      ]
     },
     "metadata": {},
     "output_type": "display_data"
    }
   ],
   "source": [
    "data_loader = DatasetLoader()\n",
    "data = data_loader.load_data(npi_licesing[0])"
   ]
  },
  {
   "cell_type": "code",
   "execution_count": 46,
   "id": "cb731c3d-2b05-47c5-a61b-79994ea21f02",
   "metadata": {
    "tags": []
   },
   "outputs": [
    {
     "data": {
      "text/plain": [
       "sentence_good\n",
       "True    1000\n",
       "Name: count, dtype: int64"
      ]
     },
     "execution_count": 46,
     "metadata": {},
     "output_type": "execute_result"
    }
   ],
   "source": [
    "pd.DataFrame(data[\"train\"])['sentence_good'].apply(lambda x: str(x).startswith(\"Even\")).value_counts()"
   ]
  },
  {
   "cell_type": "code",
   "execution_count": 47,
   "id": "8495324c-ecfa-45fb-94cc-e2e59bb17eeb",
   "metadata": {
    "tags": []
   },
   "outputs": [],
   "source": [
    "# so for NPI the only underlined word will be \"Even\",\n",
    "# which is the first one for all the examples in our dataset"
   ]
  },
  {
   "cell_type": "code",
   "execution_count": 51,
   "id": "7f7aa58a-7a8b-4466-8952-6d0d9fc3d259",
   "metadata": {
    "tags": []
   },
   "outputs": [
    {
     "data": {
      "application/vnd.jupyter.widget-view+json": {
       "model_id": "b6f290ce4df14ba091fbc8049295e944",
       "version_major": 2,
       "version_minor": 0
      },
      "text/plain": [
       "Downloading data:   0%|          | 0.00/42.7k [00:00<?, ?B/s]"
      ]
     },
     "metadata": {},
     "output_type": "display_data"
    },
    {
     "data": {
      "application/vnd.jupyter.widget-view+json": {
       "model_id": "0faccb2c91e4461db32410613bda3052",
       "version_major": 2,
       "version_minor": 0
      },
      "text/plain": [
       "Generating train split:   0%|          | 0/1000 [00:00<?, ? examples/s]"
      ]
     },
     "metadata": {},
     "output_type": "display_data"
    },
    {
     "data": {
      "application/vnd.jupyter.widget-view+json": {
       "model_id": "3008f1a1932344269e5b41d45505f3bb",
       "version_major": 2,
       "version_minor": 0
      },
      "text/plain": [
       "Creating json from Arrow format:   0%|          | 0/1 [00:00<?, ?ba/s]"
      ]
     },
     "metadata": {},
     "output_type": "display_data"
    },
    {
     "name": "stdout",
     "output_type": "stream",
     "text": [
      "The dataset is stored at ./data/\n"
     ]
    }
   ],
   "source": [
    "data_loader = DatasetLoader()\n",
    "data = data_loader.load_data(subject_verb_agreement[1])"
   ]
  },
  {
   "cell_type": "code",
   "execution_count": 52,
   "id": "94318341-7986-422f-bd74-f7fe56837501",
   "metadata": {
    "tags": []
   },
   "outputs": [
    {
     "data": {
      "text/html": [
       "<div>\n",
       "<style scoped>\n",
       "    .dataframe tbody tr th:only-of-type {\n",
       "        vertical-align: middle;\n",
       "    }\n",
       "\n",
       "    .dataframe tbody tr th {\n",
       "        vertical-align: top;\n",
       "    }\n",
       "\n",
       "    .dataframe thead th {\n",
       "        text-align: right;\n",
       "    }\n",
       "</style>\n",
       "<table border=\"1\" class=\"dataframe\">\n",
       "  <thead>\n",
       "    <tr style=\"text-align: right;\">\n",
       "      <th></th>\n",
       "      <th>sentence_good</th>\n",
       "      <th>sentence_bad</th>\n",
       "      <th>field</th>\n",
       "      <th>linguistics_term</th>\n",
       "      <th>UID</th>\n",
       "      <th>simple_LM_method</th>\n",
       "      <th>one_prefix_method</th>\n",
       "      <th>two_prefix_method</th>\n",
       "      <th>lexically_identical</th>\n",
       "      <th>pair_id</th>\n",
       "    </tr>\n",
       "  </thead>\n",
       "  <tbody>\n",
       "    <tr>\n",
       "      <th>0</th>\n",
       "      <td>The women meet.</td>\n",
       "      <td>The woman meet.</td>\n",
       "      <td>morphology</td>\n",
       "      <td>subject_verb_agreement</td>\n",
       "      <td>irregular_plural_subject_verb_agreement_2</td>\n",
       "      <td>True</td>\n",
       "      <td>False</td>\n",
       "      <td>True</td>\n",
       "      <td>False</td>\n",
       "      <td>0</td>\n",
       "    </tr>\n",
       "    <tr>\n",
       "      <th>1</th>\n",
       "      <td>The child isn't attacking Becky.</td>\n",
       "      <td>The children isn't attacking Becky.</td>\n",
       "      <td>morphology</td>\n",
       "      <td>subject_verb_agreement</td>\n",
       "      <td>irregular_plural_subject_verb_agreement_2</td>\n",
       "      <td>True</td>\n",
       "      <td>False</td>\n",
       "      <td>True</td>\n",
       "      <td>False</td>\n",
       "      <td>1</td>\n",
       "    </tr>\n",
       "    <tr>\n",
       "      <th>2</th>\n",
       "      <td>The woman cleans every public park.</td>\n",
       "      <td>The women cleans every public park.</td>\n",
       "      <td>morphology</td>\n",
       "      <td>subject_verb_agreement</td>\n",
       "      <td>irregular_plural_subject_verb_agreement_2</td>\n",
       "      <td>True</td>\n",
       "      <td>False</td>\n",
       "      <td>True</td>\n",
       "      <td>False</td>\n",
       "      <td>2</td>\n",
       "    </tr>\n",
       "    <tr>\n",
       "      <th>3</th>\n",
       "      <td>The man works with some pedestrian.</td>\n",
       "      <td>The men works with some pedestrian.</td>\n",
       "      <td>morphology</td>\n",
       "      <td>subject_verb_agreement</td>\n",
       "      <td>irregular_plural_subject_verb_agreement_2</td>\n",
       "      <td>True</td>\n",
       "      <td>False</td>\n",
       "      <td>True</td>\n",
       "      <td>False</td>\n",
       "      <td>3</td>\n",
       "    </tr>\n",
       "    <tr>\n",
       "      <th>4</th>\n",
       "      <td>The men have revealed Christina.</td>\n",
       "      <td>The man have revealed Christina.</td>\n",
       "      <td>morphology</td>\n",
       "      <td>subject_verb_agreement</td>\n",
       "      <td>irregular_plural_subject_verb_agreement_2</td>\n",
       "      <td>True</td>\n",
       "      <td>False</td>\n",
       "      <td>True</td>\n",
       "      <td>False</td>\n",
       "      <td>4</td>\n",
       "    </tr>\n",
       "    <tr>\n",
       "      <th>...</th>\n",
       "      <td>...</td>\n",
       "      <td>...</td>\n",
       "      <td>...</td>\n",
       "      <td>...</td>\n",
       "      <td>...</td>\n",
       "      <td>...</td>\n",
       "      <td>...</td>\n",
       "      <td>...</td>\n",
       "      <td>...</td>\n",
       "      <td>...</td>\n",
       "    </tr>\n",
       "    <tr>\n",
       "      <th>995</th>\n",
       "      <td>The children smile.</td>\n",
       "      <td>The child smile.</td>\n",
       "      <td>morphology</td>\n",
       "      <td>subject_verb_agreement</td>\n",
       "      <td>irregular_plural_subject_verb_agreement_2</td>\n",
       "      <td>True</td>\n",
       "      <td>False</td>\n",
       "      <td>True</td>\n",
       "      <td>False</td>\n",
       "      <td>995</td>\n",
       "    </tr>\n",
       "    <tr>\n",
       "      <th>996</th>\n",
       "      <td>The child scratches.</td>\n",
       "      <td>The children scratches.</td>\n",
       "      <td>morphology</td>\n",
       "      <td>subject_verb_agreement</td>\n",
       "      <td>irregular_plural_subject_verb_agreement_2</td>\n",
       "      <td>True</td>\n",
       "      <td>False</td>\n",
       "      <td>True</td>\n",
       "      <td>False</td>\n",
       "      <td>996</td>\n",
       "    </tr>\n",
       "    <tr>\n",
       "      <th>997</th>\n",
       "      <td>The child discovers Steve.</td>\n",
       "      <td>The children discovers Steve.</td>\n",
       "      <td>morphology</td>\n",
       "      <td>subject_verb_agreement</td>\n",
       "      <td>irregular_plural_subject_verb_agreement_2</td>\n",
       "      <td>True</td>\n",
       "      <td>False</td>\n",
       "      <td>True</td>\n",
       "      <td>False</td>\n",
       "      <td>997</td>\n",
       "    </tr>\n",
       "    <tr>\n",
       "      <th>998</th>\n",
       "      <td>The alumni hate all ladies.</td>\n",
       "      <td>The alumnus hate all ladies.</td>\n",
       "      <td>morphology</td>\n",
       "      <td>subject_verb_agreement</td>\n",
       "      <td>irregular_plural_subject_verb_agreement_2</td>\n",
       "      <td>True</td>\n",
       "      <td>False</td>\n",
       "      <td>True</td>\n",
       "      <td>False</td>\n",
       "      <td>998</td>\n",
       "    </tr>\n",
       "    <tr>\n",
       "      <th>999</th>\n",
       "      <td>The woman hasn't departed.</td>\n",
       "      <td>The women hasn't departed.</td>\n",
       "      <td>morphology</td>\n",
       "      <td>subject_verb_agreement</td>\n",
       "      <td>irregular_plural_subject_verb_agreement_2</td>\n",
       "      <td>True</td>\n",
       "      <td>False</td>\n",
       "      <td>True</td>\n",
       "      <td>False</td>\n",
       "      <td>999</td>\n",
       "    </tr>\n",
       "  </tbody>\n",
       "</table>\n",
       "<p>1000 rows × 10 columns</p>\n",
       "</div>"
      ],
      "text/plain": [
       "                           sentence_good                         sentence_bad  \\\n",
       "0                        The women meet.                      The woman meet.   \n",
       "1       The child isn't attacking Becky.  The children isn't attacking Becky.   \n",
       "2    The woman cleans every public park.  The women cleans every public park.   \n",
       "3    The man works with some pedestrian.  The men works with some pedestrian.   \n",
       "4       The men have revealed Christina.     The man have revealed Christina.   \n",
       "..                                   ...                                  ...   \n",
       "995                  The children smile.                     The child smile.   \n",
       "996                 The child scratches.              The children scratches.   \n",
       "997           The child discovers Steve.        The children discovers Steve.   \n",
       "998          The alumni hate all ladies.         The alumnus hate all ladies.   \n",
       "999           The woman hasn't departed.           The women hasn't departed.   \n",
       "\n",
       "          field        linguistics_term  \\\n",
       "0    morphology  subject_verb_agreement   \n",
       "1    morphology  subject_verb_agreement   \n",
       "2    morphology  subject_verb_agreement   \n",
       "3    morphology  subject_verb_agreement   \n",
       "4    morphology  subject_verb_agreement   \n",
       "..          ...                     ...   \n",
       "995  morphology  subject_verb_agreement   \n",
       "996  morphology  subject_verb_agreement   \n",
       "997  morphology  subject_verb_agreement   \n",
       "998  morphology  subject_verb_agreement   \n",
       "999  morphology  subject_verb_agreement   \n",
       "\n",
       "                                           UID  simple_LM_method  \\\n",
       "0    irregular_plural_subject_verb_agreement_2              True   \n",
       "1    irregular_plural_subject_verb_agreement_2              True   \n",
       "2    irregular_plural_subject_verb_agreement_2              True   \n",
       "3    irregular_plural_subject_verb_agreement_2              True   \n",
       "4    irregular_plural_subject_verb_agreement_2              True   \n",
       "..                                         ...               ...   \n",
       "995  irregular_plural_subject_verb_agreement_2              True   \n",
       "996  irregular_plural_subject_verb_agreement_2              True   \n",
       "997  irregular_plural_subject_verb_agreement_2              True   \n",
       "998  irregular_plural_subject_verb_agreement_2              True   \n",
       "999  irregular_plural_subject_verb_agreement_2              True   \n",
       "\n",
       "     one_prefix_method  two_prefix_method  lexically_identical  pair_id  \n",
       "0                False               True                False        0  \n",
       "1                False               True                False        1  \n",
       "2                False               True                False        2  \n",
       "3                False               True                False        3  \n",
       "4                False               True                False        4  \n",
       "..                 ...                ...                  ...      ...  \n",
       "995              False               True                False      995  \n",
       "996              False               True                False      996  \n",
       "997              False               True                False      997  \n",
       "998              False               True                False      998  \n",
       "999              False               True                False      999  \n",
       "\n",
       "[1000 rows x 10 columns]"
      ]
     },
     "execution_count": 52,
     "metadata": {},
     "output_type": "execute_result"
    }
   ],
   "source": [
    "pd.DataFrame(data[\"train\"])"
   ]
  },
  {
   "cell_type": "code",
   "execution_count": 112,
   "id": "678ab88d-2c9b-4f6f-9a10-0901dfea0f0e",
   "metadata": {
    "tags": []
   },
   "outputs": [],
   "source": [
    "def extract_subject_from_target_verb(text, target_verb):\n",
    "    doc = nlp(text)\n",
    "    for token in doc:\n",
    "        if token.text.lower() == target_verb.lower() and (token.pos_ == \"VERB\" or token.pos_ == \"AUX\"):\n",
    "            for child in token.children:\n",
    "                if child.dep_ in {\"nsubj\", \"nsubjpass\"}:\n",
    "                    return child.text\n",
    "    return None"
   ]
  },
  {
   "cell_type": "code",
   "execution_count": 113,
   "id": "6839d12b-daa7-4609-9513-d66bd7e37db4",
   "metadata": {
    "tags": []
   },
   "outputs": [],
   "source": [
    "def get_verb_from_sentence(text):\n",
    "    doc = nlp(text)\n",
    "    for token in doc:\n",
    "        if token.text.lower() and token.pos_ == \"VERB\":\n",
    "            return token.text\n",
    "    return None"
   ]
  },
  {
   "cell_type": "code",
   "execution_count": 116,
   "id": "464c8246-5119-4e1e-bff6-c99947347f37",
   "metadata": {
    "tags": []
   },
   "outputs": [
    {
     "data": {
      "text/plain": [
       "'alumni'"
      ]
     },
     "execution_count": 116,
     "metadata": {},
     "output_type": "execute_result"
    }
   ],
   "source": [
    "text = \"The alumni hate all ladies.\"\n",
    "extract_subject_from_target_verb(text, get_verb_from_sentence(text))"
   ]
  },
  {
   "cell_type": "code",
   "execution_count": 118,
   "id": "90c2fe0b-dd6e-41aa-8cad-7066ff4c2d67",
   "metadata": {
    "tags": []
   },
   "outputs": [
    {
     "data": {
      "application/vnd.jupyter.widget-view+json": {
       "model_id": "cdbe186fad3d47e79b4344c45407b851",
       "version_major": 2,
       "version_minor": 0
      },
      "text/plain": [
       "Generating train split: 0 examples [00:00, ? examples/s]"
      ]
     },
     "metadata": {},
     "output_type": "display_data"
    }
   ],
   "source": [
    "data_loader = DatasetLoader()\n",
    "data = data_loader.load_data(anaphor_agreement_datasets[0])"
   ]
  },
  {
   "cell_type": "code",
   "execution_count": 119,
   "id": "2e91ec53-7145-4166-91b2-d6f6048f7ab8",
   "metadata": {
    "tags": []
   },
   "outputs": [
    {
     "data": {
      "text/html": [
       "<div>\n",
       "<style scoped>\n",
       "    .dataframe tbody tr th:only-of-type {\n",
       "        vertical-align: middle;\n",
       "    }\n",
       "\n",
       "    .dataframe tbody tr th {\n",
       "        vertical-align: top;\n",
       "    }\n",
       "\n",
       "    .dataframe thead th {\n",
       "        text-align: right;\n",
       "    }\n",
       "</style>\n",
       "<table border=\"1\" class=\"dataframe\">\n",
       "  <thead>\n",
       "    <tr style=\"text-align: right;\">\n",
       "      <th></th>\n",
       "      <th>sentence_good</th>\n",
       "      <th>sentence_bad</th>\n",
       "      <th>field</th>\n",
       "      <th>linguistics_term</th>\n",
       "      <th>UID</th>\n",
       "      <th>simple_LM_method</th>\n",
       "      <th>one_prefix_method</th>\n",
       "      <th>two_prefix_method</th>\n",
       "      <th>lexically_identical</th>\n",
       "      <th>pair_id</th>\n",
       "    </tr>\n",
       "  </thead>\n",
       "  <tbody>\n",
       "    <tr>\n",
       "      <th>0</th>\n",
       "      <td>Katherine can't help herself.</td>\n",
       "      <td>Katherine can't help himself.</td>\n",
       "      <td>morphology</td>\n",
       "      <td>anaphor_agreement</td>\n",
       "      <td>anaphor_gender_agreement</td>\n",
       "      <td>True</td>\n",
       "      <td>True</td>\n",
       "      <td>False</td>\n",
       "      <td>False</td>\n",
       "      <td>0</td>\n",
       "    </tr>\n",
       "    <tr>\n",
       "      <th>1</th>\n",
       "      <td>Karla could listen to herself.</td>\n",
       "      <td>Karla could listen to himself.</td>\n",
       "      <td>morphology</td>\n",
       "      <td>anaphor_agreement</td>\n",
       "      <td>anaphor_gender_agreement</td>\n",
       "      <td>True</td>\n",
       "      <td>True</td>\n",
       "      <td>False</td>\n",
       "      <td>False</td>\n",
       "      <td>1</td>\n",
       "    </tr>\n",
       "    <tr>\n",
       "      <th>2</th>\n",
       "      <td>Marie won't think about herself.</td>\n",
       "      <td>Marie won't think about itself.</td>\n",
       "      <td>morphology</td>\n",
       "      <td>anaphor_agreement</td>\n",
       "      <td>anaphor_gender_agreement</td>\n",
       "      <td>True</td>\n",
       "      <td>True</td>\n",
       "      <td>False</td>\n",
       "      <td>False</td>\n",
       "      <td>2</td>\n",
       "    </tr>\n",
       "    <tr>\n",
       "      <th>3</th>\n",
       "      <td>Mark hasn't discussed himself.</td>\n",
       "      <td>Mark hasn't discussed itself.</td>\n",
       "      <td>morphology</td>\n",
       "      <td>anaphor_agreement</td>\n",
       "      <td>anaphor_gender_agreement</td>\n",
       "      <td>True</td>\n",
       "      <td>True</td>\n",
       "      <td>False</td>\n",
       "      <td>False</td>\n",
       "      <td>3</td>\n",
       "    </tr>\n",
       "    <tr>\n",
       "      <th>4</th>\n",
       "      <td>Stephen impressed himself.</td>\n",
       "      <td>Stephen impressed itself.</td>\n",
       "      <td>morphology</td>\n",
       "      <td>anaphor_agreement</td>\n",
       "      <td>anaphor_gender_agreement</td>\n",
       "      <td>True</td>\n",
       "      <td>True</td>\n",
       "      <td>False</td>\n",
       "      <td>False</td>\n",
       "      <td>4</td>\n",
       "    </tr>\n",
       "    <tr>\n",
       "      <th>...</th>\n",
       "      <td>...</td>\n",
       "      <td>...</td>\n",
       "      <td>...</td>\n",
       "      <td>...</td>\n",
       "      <td>...</td>\n",
       "      <td>...</td>\n",
       "      <td>...</td>\n",
       "      <td>...</td>\n",
       "      <td>...</td>\n",
       "      <td>...</td>\n",
       "    </tr>\n",
       "    <tr>\n",
       "      <th>995</th>\n",
       "      <td>Carlos complained about himself.</td>\n",
       "      <td>Carlos complained about itself.</td>\n",
       "      <td>morphology</td>\n",
       "      <td>anaphor_agreement</td>\n",
       "      <td>anaphor_gender_agreement</td>\n",
       "      <td>True</td>\n",
       "      <td>True</td>\n",
       "      <td>False</td>\n",
       "      <td>False</td>\n",
       "      <td>995</td>\n",
       "    </tr>\n",
       "    <tr>\n",
       "      <th>996</th>\n",
       "      <td>Benjamin is firing himself.</td>\n",
       "      <td>Benjamin is firing itself.</td>\n",
       "      <td>morphology</td>\n",
       "      <td>anaphor_agreement</td>\n",
       "      <td>anaphor_gender_agreement</td>\n",
       "      <td>True</td>\n",
       "      <td>True</td>\n",
       "      <td>False</td>\n",
       "      <td>False</td>\n",
       "      <td>996</td>\n",
       "    </tr>\n",
       "    <tr>\n",
       "      <th>997</th>\n",
       "      <td>Chad kisses himself.</td>\n",
       "      <td>Chad kisses herself.</td>\n",
       "      <td>morphology</td>\n",
       "      <td>anaphor_agreement</td>\n",
       "      <td>anaphor_gender_agreement</td>\n",
       "      <td>True</td>\n",
       "      <td>True</td>\n",
       "      <td>False</td>\n",
       "      <td>False</td>\n",
       "      <td>997</td>\n",
       "    </tr>\n",
       "    <tr>\n",
       "      <th>998</th>\n",
       "      <td>Paula was arguing about herself.</td>\n",
       "      <td>Paula was arguing about himself.</td>\n",
       "      <td>morphology</td>\n",
       "      <td>anaphor_agreement</td>\n",
       "      <td>anaphor_gender_agreement</td>\n",
       "      <td>True</td>\n",
       "      <td>True</td>\n",
       "      <td>False</td>\n",
       "      <td>False</td>\n",
       "      <td>998</td>\n",
       "    </tr>\n",
       "    <tr>\n",
       "      <th>999</th>\n",
       "      <td>Colleen should question herself.</td>\n",
       "      <td>Colleen should question itself.</td>\n",
       "      <td>morphology</td>\n",
       "      <td>anaphor_agreement</td>\n",
       "      <td>anaphor_gender_agreement</td>\n",
       "      <td>True</td>\n",
       "      <td>True</td>\n",
       "      <td>False</td>\n",
       "      <td>False</td>\n",
       "      <td>999</td>\n",
       "    </tr>\n",
       "  </tbody>\n",
       "</table>\n",
       "<p>1000 rows × 10 columns</p>\n",
       "</div>"
      ],
      "text/plain": [
       "                        sentence_good                      sentence_bad  \\\n",
       "0       Katherine can't help herself.     Katherine can't help himself.   \n",
       "1      Karla could listen to herself.    Karla could listen to himself.   \n",
       "2    Marie won't think about herself.   Marie won't think about itself.   \n",
       "3      Mark hasn't discussed himself.     Mark hasn't discussed itself.   \n",
       "4          Stephen impressed himself.         Stephen impressed itself.   \n",
       "..                                ...                               ...   \n",
       "995  Carlos complained about himself.   Carlos complained about itself.   \n",
       "996       Benjamin is firing himself.        Benjamin is firing itself.   \n",
       "997              Chad kisses himself.              Chad kisses herself.   \n",
       "998  Paula was arguing about herself.  Paula was arguing about himself.   \n",
       "999  Colleen should question herself.   Colleen should question itself.   \n",
       "\n",
       "          field   linguistics_term                       UID  \\\n",
       "0    morphology  anaphor_agreement  anaphor_gender_agreement   \n",
       "1    morphology  anaphor_agreement  anaphor_gender_agreement   \n",
       "2    morphology  anaphor_agreement  anaphor_gender_agreement   \n",
       "3    morphology  anaphor_agreement  anaphor_gender_agreement   \n",
       "4    morphology  anaphor_agreement  anaphor_gender_agreement   \n",
       "..          ...                ...                       ...   \n",
       "995  morphology  anaphor_agreement  anaphor_gender_agreement   \n",
       "996  morphology  anaphor_agreement  anaphor_gender_agreement   \n",
       "997  morphology  anaphor_agreement  anaphor_gender_agreement   \n",
       "998  morphology  anaphor_agreement  anaphor_gender_agreement   \n",
       "999  morphology  anaphor_agreement  anaphor_gender_agreement   \n",
       "\n",
       "     simple_LM_method  one_prefix_method  two_prefix_method  \\\n",
       "0                True               True              False   \n",
       "1                True               True              False   \n",
       "2                True               True              False   \n",
       "3                True               True              False   \n",
       "4                True               True              False   \n",
       "..                ...                ...                ...   \n",
       "995              True               True              False   \n",
       "996              True               True              False   \n",
       "997              True               True              False   \n",
       "998              True               True              False   \n",
       "999              True               True              False   \n",
       "\n",
       "     lexically_identical  pair_id  \n",
       "0                  False        0  \n",
       "1                  False        1  \n",
       "2                  False        2  \n",
       "3                  False        3  \n",
       "4                  False        4  \n",
       "..                   ...      ...  \n",
       "995                False      995  \n",
       "996                False      996  \n",
       "997                False      997  \n",
       "998                False      998  \n",
       "999                False      999  \n",
       "\n",
       "[1000 rows x 10 columns]"
      ]
     },
     "execution_count": 119,
     "metadata": {},
     "output_type": "execute_result"
    }
   ],
   "source": [
    "pd.DataFrame(data[\"train\"])"
   ]
  },
  {
   "cell_type": "code",
   "execution_count": 12,
   "id": "4fe270d5-b986-46d7-bf21-2d4b8b7cb76e",
   "metadata": {
    "tags": []
   },
   "outputs": [],
   "source": [
    "# neuralcoref.add_to_pipe(nlp)\n",
    "\n",
    "\n",
    "def extract_coreferents(text, target_token_text):\n",
    "    doc = nlp(text)\n",
    "\n",
    "    target_token = None\n",
    "    for token in doc:\n",
    "        if token.text.lower() == target_token_text.lower():\n",
    "            target_token = token\n",
    "            break\n",
    "\n",
    "    if not target_token:\n",
    "        return []\n",
    "\n",
    "    coref_clusters = doc._.coref_clusters\n",
    "\n",
    "    coreferents = set()\n",
    "\n",
    "    for cluster in coref_clusters:\n",
    "        if target_token in cluster:\n",
    "            for mention in cluster.mentions:\n",
    "                if mention != target_token:\n",
    "                    coreferents.update([token.text for token in mention])\n",
    "\n",
    "    return list(coreferents)"
   ]
  },
  {
   "cell_type": "code",
   "execution_count": null,
   "id": "47fdb8bf-8e6b-4716-b6e1-cc86a5bcbc57",
   "metadata": {},
   "outputs": [],
   "source": []
  }
 ],
 "metadata": {
  "kernelspec": {
   "display_name": "Python",
   "language": "python",
   "name": "python3"
  },
  "language_info": {
   "codemirror_mode": {
    "name": "ipython",
    "version": 3
   },
   "file_extension": ".py",
   "mimetype": "text/x-python",
   "name": "python",
   "nbconvert_exporter": "python",
   "pygments_lexer": "ipython3",
   "version": "3.8.10"
  }
 },
 "nbformat": 4,
 "nbformat_minor": 5
}
